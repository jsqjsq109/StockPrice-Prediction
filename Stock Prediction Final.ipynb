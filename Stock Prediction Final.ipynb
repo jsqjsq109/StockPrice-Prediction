{
 "cells": [
  {
   "cell_type": "markdown",
   "metadata": {},
   "source": [
    "# Obtaining data"
   ]
  },
  {
   "cell_type": "markdown",
   "metadata": {},
   "source": [
    "Importing library and generating Yahoo Finance link"
   ]
  },
  {
   "cell_type": "code",
   "execution_count": 1,
   "metadata": {},
   "outputs": [],
   "source": [
    "import pandas as pd\n",
    "import datetime\n",
    "import numpy as np"
   ]
  },
  {
   "cell_type": "code",
   "execution_count": 2,
   "metadata": {},
   "outputs": [],
   "source": [
    "# enter inputs here including ticker and start and end date here\n",
    "symbol = 'GSPC'\n",
    "start_date = '2002-01-01'\n",
    "end_date = '2020-11-30'"
   ]
  },
  {
   "cell_type": "code",
   "execution_count": 3,
   "metadata": {},
   "outputs": [],
   "source": [
    "start= datetime.datetime(int(start_date[0:4]), int(start_date[5:7]), int(start_date[8:10])).timestamp()\n",
    "end = datetime.datetime(int(end_date[0:4]), int(end_date[5:7]), int(end_date[8:10])).timestamp()\n",
    "\n",
    "url_string = \"https://finance.yahoo.com/quote/%5E{}/history?\".format(symbol)\n",
    "url_string += \"period1={0}&period2={1}&interval=1d&filter=history&frequency=1d&includeAdjustedClose=true\".format(int(start), int(end))\n"
   ]
  },
  {
   "cell_type": "markdown",
   "metadata": {},
   "source": [
    "Inputs to generate URL link for S&P stock form 1 Jan 2002 up to 30 Nov 2020"
   ]
  },
  {
   "cell_type": "code",
   "execution_count": 4,
   "metadata": {},
   "outputs": [
    {
     "name": "stdout",
     "output_type": "stream",
     "text": [
      "https://finance.yahoo.com/quote/%5EGSPC/history?period1=1009814400&period2=1606665600&interval=1d&filter=history&frequency=1d&includeAdjustedClose=true\n"
     ]
    }
   ],
   "source": [
    "print(url_string)"
   ]
  },
  {
   "cell_type": "markdown",
   "metadata": {},
   "source": [
    "Open up link and click download to get CSV file , file name will be ^GSPC.csv in this case for S&P500"
   ]
  },
  {
   "cell_type": "markdown",
   "metadata": {},
   "source": [
    "## Preprocess data"
   ]
  },
  {
   "cell_type": "code",
   "execution_count": 5,
   "metadata": {},
   "outputs": [
    {
     "name": "stdout",
     "output_type": "stream",
     "text": [
      "4762\n"
     ]
    }
   ],
   "source": [
    "filename = '^'+symbol\n",
    "\n",
    "data = pd.read_csv(filename + '.csv')\n",
    "\n",
    "data['Date'] = pd.to_datetime(data['Date'],format='%Y-%m-%d')\n",
    "data.index = np.arange(1,len(data)+1)\n",
    "print(len(data))\n",
    "#print(type(data0))\n",
    "#data = data0.set_index('Date')"
   ]
  },
  {
   "cell_type": "code",
   "execution_count": 6,
   "metadata": {},
   "outputs": [
    {
     "name": "stdout",
     "output_type": "stream",
     "text": [
      "           Date         Open         High          Low        Close  \\\n",
      "4758 2020-11-20  3579.310059  3581.229980  3556.850098  3557.540039   \n",
      "4759 2020-11-23  3566.820068  3589.810059  3552.770020  3577.590088   \n",
      "4760 2020-11-24  3594.520020  3642.310059  3594.520020  3635.409912   \n",
      "4761 2020-11-25  3635.500000  3635.500000  3617.760010  3629.649902   \n",
      "4762 2020-11-27  3638.550049  3644.310059  3629.330078  3638.350098   \n",
      "\n",
      "        Adj Close      Volume  \n",
      "4758  3557.540039  4218970000  \n",
      "4759  3577.590088  5036290000  \n",
      "4760  3635.409912  6267570000  \n",
      "4761  3629.649902  4902560000  \n",
      "4762  3638.350098  2778450000  \n",
      "        Date         Open         High          Low        Close    Adj Close  \\\n",
      "1 2001-12-31  1161.020020  1161.160034  1148.040039  1148.079956  1148.079956   \n",
      "2 2002-01-02  1148.079956  1154.670044  1136.229980  1154.670044  1154.670044   \n",
      "3 2002-01-03  1154.670044  1165.270020  1154.010010  1165.270020  1165.270020   \n",
      "4 2002-01-04  1165.270020  1176.550049  1163.420044  1172.510010  1172.510010   \n",
      "5 2002-01-07  1172.510010  1176.969971  1163.550049  1164.890015  1164.890015   \n",
      "\n",
      "       Volume  \n",
      "1   943600000  \n",
      "2  1171000000  \n",
      "3  1398900000  \n",
      "4  1513000000  \n",
      "5  1308300000  \n"
     ]
    }
   ],
   "source": [
    "# Getting an idea of how the dataset looks like\n",
    "print(data.tail())\n",
    "print(data.head())"
   ]
  },
  {
   "cell_type": "code",
   "execution_count": 7,
   "metadata": {},
   "outputs": [
    {
     "data": {
      "image/png": "[encoded data removed]",
      "text/plain": [
       "<Figure size 432x288 with 1 Axes>"
      ]
     },
     "metadata": {
      "needs_background": "light"
     },
     "output_type": "display_data"
    }
   ],
   "source": [
    "#plotting prices on a graph to see overview\n",
    "\n",
    "import matplotlib.pyplot as plt\n",
    "data.Close.plot()\n",
    "\n",
    "plt.title('S&P 500 Prices')\n",
    "plt.ylabel('Closing Price')\n",
    "plt.xlabel('Date')\n",
    "plt.show()"
   ]
  },
  {
   "cell_type": "markdown",
   "metadata": {},
   "source": [
    "# Benchmark Model - Linear Regression"
   ]
  },
  {
   "cell_type": "markdown",
   "metadata": {},
   "source": [
    "Adding an additional field\n",
    "1. Simple Moving Average "
   ]
  },
  {
   "cell_type": "code",
   "execution_count": 8,
   "metadata": {},
   "outputs": [],
   "source": [
    "# Adding Simple Moving Average column for 50 days \n",
    "data['SMA']=data.Close.rolling(50,win_type = 'triang').mean()\n"
   ]
  },
  {
   "cell_type": "code",
   "execution_count": 9,
   "metadata": {},
   "outputs": [
    {
     "data": {
      "text/html": [
       "<div>\n",
       "<style scoped>\n",
       "    .dataframe tbody tr th:only-of-type {\n",
       "        vertical-align: middle;\n",
       "    }\n",
       "\n",
       "    .dataframe tbody tr th {\n",
       "        vertical-align: top;\n",
       "    }\n",
       "\n",
       "    .dataframe thead th {\n",
       "        text-align: right;\n",
       "    }\n",
       "</style>\n",
       "<table border=\"1\" class=\"dataframe\">\n",
       "  <thead>\n",
       "    <tr style=\"text-align: right;\">\n",
       "      <th></th>\n",
       "      <th>Date</th>\n",
       "      <th>Open</th>\n",
       "      <th>High</th>\n",
       "      <th>Low</th>\n",
       "      <th>Close</th>\n",
       "      <th>Adj Close</th>\n",
       "      <th>Volume</th>\n",
       "      <th>SMA</th>\n",
       "    </tr>\n",
       "  </thead>\n",
       "  <tbody>\n",
       "    <tr>\n",
       "      <th>1</th>\n",
       "      <td>2001-12-31</td>\n",
       "      <td>1161.020020</td>\n",
       "      <td>1161.160034</td>\n",
       "      <td>1148.040039</td>\n",
       "      <td>1148.079956</td>\n",
       "      <td>1148.079956</td>\n",
       "      <td>943600000</td>\n",
       "      <td>NaN</td>\n",
       "    </tr>\n",
       "    <tr>\n",
       "      <th>2</th>\n",
       "      <td>2002-01-02</td>\n",
       "      <td>1148.079956</td>\n",
       "      <td>1154.670044</td>\n",
       "      <td>1136.229980</td>\n",
       "      <td>1154.670044</td>\n",
       "      <td>1154.670044</td>\n",
       "      <td>1171000000</td>\n",
       "      <td>NaN</td>\n",
       "    </tr>\n",
       "    <tr>\n",
       "      <th>3</th>\n",
       "      <td>2002-01-03</td>\n",
       "      <td>1154.670044</td>\n",
       "      <td>1165.270020</td>\n",
       "      <td>1154.010010</td>\n",
       "      <td>1165.270020</td>\n",
       "      <td>1165.270020</td>\n",
       "      <td>1398900000</td>\n",
       "      <td>NaN</td>\n",
       "    </tr>\n",
       "    <tr>\n",
       "      <th>4</th>\n",
       "      <td>2002-01-04</td>\n",
       "      <td>1165.270020</td>\n",
       "      <td>1176.550049</td>\n",
       "      <td>1163.420044</td>\n",
       "      <td>1172.510010</td>\n",
       "      <td>1172.510010</td>\n",
       "      <td>1513000000</td>\n",
       "      <td>NaN</td>\n",
       "    </tr>\n",
       "    <tr>\n",
       "      <th>5</th>\n",
       "      <td>2002-01-07</td>\n",
       "      <td>1172.510010</td>\n",
       "      <td>1176.969971</td>\n",
       "      <td>1163.550049</td>\n",
       "      <td>1164.890015</td>\n",
       "      <td>1164.890015</td>\n",
       "      <td>1308300000</td>\n",
       "      <td>NaN</td>\n",
       "    </tr>\n",
       "    <tr>\n",
       "      <th>6</th>\n",
       "      <td>2002-01-08</td>\n",
       "      <td>1164.890015</td>\n",
       "      <td>1167.599976</td>\n",
       "      <td>1157.459961</td>\n",
       "      <td>1160.709961</td>\n",
       "      <td>1160.709961</td>\n",
       "      <td>1258800000</td>\n",
       "      <td>NaN</td>\n",
       "    </tr>\n",
       "  </tbody>\n",
       "</table>\n",
       "</div>"
      ],
      "text/plain": [
       "        Date         Open         High          Low        Close    Adj Close  \\\n",
       "1 2001-12-31  1161.020020  1161.160034  1148.040039  1148.079956  1148.079956   \n",
       "2 2002-01-02  1148.079956  1154.670044  1136.229980  1154.670044  1154.670044   \n",
       "3 2002-01-03  1154.670044  1165.270020  1154.010010  1165.270020  1165.270020   \n",
       "4 2002-01-04  1165.270020  1176.550049  1163.420044  1172.510010  1172.510010   \n",
       "5 2002-01-07  1172.510010  1176.969971  1163.550049  1164.890015  1164.890015   \n",
       "6 2002-01-08  1164.890015  1167.599976  1157.459961  1160.709961  1160.709961   \n",
       "\n",
       "       Volume  SMA  \n",
       "1   943600000  NaN  \n",
       "2  1171000000  NaN  \n",
       "3  1398900000  NaN  \n",
       "4  1513000000  NaN  \n",
       "5  1308300000  NaN  \n",
       "6  1258800000  NaN  "
      ]
     },
     "execution_count": 9,
     "metadata": {},
     "output_type": "execute_result"
    }
   ],
   "source": [
    "data.head(6)"
   ]
  },
  {
   "cell_type": "code",
   "execution_count": 12,
   "metadata": {},
   "outputs": [
    {
     "data": {
      "text/html": [
       "<div>\n",
       "<style scoped>\n",
       "    .dataframe tbody tr th:only-of-type {\n",
       "        vertical-align: middle;\n",
       "    }\n",
       "\n",
       "    .dataframe tbody tr th {\n",
       "        vertical-align: top;\n",
       "    }\n",
       "\n",
       "    .dataframe thead th {\n",
       "        text-align: right;\n",
       "    }\n",
       "</style>\n",
       "<table border=\"1\" class=\"dataframe\">\n",
       "  <thead>\n",
       "    <tr style=\"text-align: right;\">\n",
       "      <th></th>\n",
       "      <th>Date</th>\n",
       "      <th>Open</th>\n",
       "      <th>High</th>\n",
       "      <th>Low</th>\n",
       "      <th>Close</th>\n",
       "      <th>Adj Close</th>\n",
       "      <th>Volume</th>\n",
       "      <th>SMA</th>\n",
       "    </tr>\n",
       "  </thead>\n",
       "  <tbody>\n",
       "    <tr>\n",
       "      <th>52</th>\n",
       "      <td>2002-03-15</td>\n",
       "      <td>1153.040039</td>\n",
       "      <td>1166.479980</td>\n",
       "      <td>1153.040039</td>\n",
       "      <td>1166.160034</td>\n",
       "      <td>1166.160034</td>\n",
       "      <td>1493900000</td>\n",
       "      <td>1114.914037</td>\n",
       "    </tr>\n",
       "    <tr>\n",
       "      <th>53</th>\n",
       "      <td>2002-03-18</td>\n",
       "      <td>1166.160034</td>\n",
       "      <td>1172.729980</td>\n",
       "      <td>1159.140015</td>\n",
       "      <td>1165.550049</td>\n",
       "      <td>1165.550049</td>\n",
       "      <td>1169500000</td>\n",
       "      <td>1114.874101</td>\n",
       "    </tr>\n",
       "    <tr>\n",
       "      <th>54</th>\n",
       "      <td>2002-03-19</td>\n",
       "      <td>1165.550049</td>\n",
       "      <td>1173.939941</td>\n",
       "      <td>1165.550049</td>\n",
       "      <td>1170.290039</td>\n",
       "      <td>1170.290039</td>\n",
       "      <td>1255000000</td>\n",
       "      <td>1115.040005</td>\n",
       "    </tr>\n",
       "    <tr>\n",
       "      <th>55</th>\n",
       "      <td>2002-03-20</td>\n",
       "      <td>1170.290039</td>\n",
       "      <td>1170.290039</td>\n",
       "      <td>1151.609985</td>\n",
       "      <td>1151.849976</td>\n",
       "      <td>1151.849976</td>\n",
       "      <td>1304900000</td>\n",
       "      <td>1115.382437</td>\n",
       "    </tr>\n",
       "    <tr>\n",
       "      <th>56</th>\n",
       "      <td>2002-03-21</td>\n",
       "      <td>1151.849976</td>\n",
       "      <td>1155.099976</td>\n",
       "      <td>1139.479980</td>\n",
       "      <td>1153.589966</td>\n",
       "      <td>1153.589966</td>\n",
       "      <td>1339200000</td>\n",
       "      <td>1115.868086</td>\n",
       "    </tr>\n",
       "  </tbody>\n",
       "</table>\n",
       "</div>"
      ],
      "text/plain": [
       "         Date         Open         High          Low        Close  \\\n",
       "52 2002-03-15  1153.040039  1166.479980  1153.040039  1166.160034   \n",
       "53 2002-03-18  1166.160034  1172.729980  1159.140015  1165.550049   \n",
       "54 2002-03-19  1165.550049  1173.939941  1165.550049  1170.290039   \n",
       "55 2002-03-20  1170.290039  1170.290039  1151.609985  1151.849976   \n",
       "56 2002-03-21  1151.849976  1155.099976  1139.479980  1153.589966   \n",
       "\n",
       "      Adj Close      Volume          SMA  \n",
       "52  1166.160034  1493900000  1114.914037  \n",
       "53  1165.550049  1169500000  1114.874101  \n",
       "54  1170.290039  1255000000  1115.040005  \n",
       "55  1151.849976  1304900000  1115.382437  \n",
       "56  1153.589966  1339200000  1115.868086  "
      ]
     },
     "execution_count": 12,
     "metadata": {},
     "output_type": "execute_result"
    }
   ],
   "source": [
    "# cleaning up the data such that each row has a data input for each header\n",
    "clean_data = data[51:]\n",
    "clean_data.head()"
   ]
  },
  {
   "cell_type": "code",
   "execution_count": 13,
   "metadata": {},
   "outputs": [
    {
     "data": {
      "text/plain": [
       "4711"
      ]
     },
     "execution_count": 13,
     "metadata": {},
     "output_type": "execute_result"
    }
   ],
   "source": [
    "# checking the total number of rows of data\n",
    "\n",
    "len(clean_data)"
   ]
  },
  {
   "cell_type": "code",
   "execution_count": 14,
   "metadata": {},
   "outputs": [],
   "source": [
    "#reset index\n",
    "clean_data.reset_index(drop=True, inplace=True)"
   ]
  },
  {
   "cell_type": "code",
   "execution_count": 15,
   "metadata": {},
   "outputs": [
    {
     "data": {
      "text/html": [
       "<div>\n",
       "<style scoped>\n",
       "    .dataframe tbody tr th:only-of-type {\n",
       "        vertical-align: middle;\n",
       "    }\n",
       "\n",
       "    .dataframe tbody tr th {\n",
       "        vertical-align: top;\n",
       "    }\n",
       "\n",
       "    .dataframe thead th {\n",
       "        text-align: right;\n",
       "    }\n",
       "</style>\n",
       "<table border=\"1\" class=\"dataframe\">\n",
       "  <thead>\n",
       "    <tr style=\"text-align: right;\">\n",
       "      <th></th>\n",
       "      <th>Date</th>\n",
       "      <th>Open</th>\n",
       "      <th>High</th>\n",
       "      <th>Low</th>\n",
       "      <th>Close</th>\n",
       "      <th>Adj Close</th>\n",
       "      <th>Volume</th>\n",
       "      <th>SMA</th>\n",
       "    </tr>\n",
       "  </thead>\n",
       "  <tbody>\n",
       "    <tr>\n",
       "      <th>0</th>\n",
       "      <td>2002-03-15</td>\n",
       "      <td>1153.040039</td>\n",
       "      <td>1166.479980</td>\n",
       "      <td>1153.040039</td>\n",
       "      <td>1166.160034</td>\n",
       "      <td>1166.160034</td>\n",
       "      <td>1493900000</td>\n",
       "      <td>1114.914037</td>\n",
       "    </tr>\n",
       "    <tr>\n",
       "      <th>1</th>\n",
       "      <td>2002-03-18</td>\n",
       "      <td>1166.160034</td>\n",
       "      <td>1172.729980</td>\n",
       "      <td>1159.140015</td>\n",
       "      <td>1165.550049</td>\n",
       "      <td>1165.550049</td>\n",
       "      <td>1169500000</td>\n",
       "      <td>1114.874101</td>\n",
       "    </tr>\n",
       "    <tr>\n",
       "      <th>2</th>\n",
       "      <td>2002-03-19</td>\n",
       "      <td>1165.550049</td>\n",
       "      <td>1173.939941</td>\n",
       "      <td>1165.550049</td>\n",
       "      <td>1170.290039</td>\n",
       "      <td>1170.290039</td>\n",
       "      <td>1255000000</td>\n",
       "      <td>1115.040005</td>\n",
       "    </tr>\n",
       "    <tr>\n",
       "      <th>3</th>\n",
       "      <td>2002-03-20</td>\n",
       "      <td>1170.290039</td>\n",
       "      <td>1170.290039</td>\n",
       "      <td>1151.609985</td>\n",
       "      <td>1151.849976</td>\n",
       "      <td>1151.849976</td>\n",
       "      <td>1304900000</td>\n",
       "      <td>1115.382437</td>\n",
       "    </tr>\n",
       "    <tr>\n",
       "      <th>4</th>\n",
       "      <td>2002-03-21</td>\n",
       "      <td>1151.849976</td>\n",
       "      <td>1155.099976</td>\n",
       "      <td>1139.479980</td>\n",
       "      <td>1153.589966</td>\n",
       "      <td>1153.589966</td>\n",
       "      <td>1339200000</td>\n",
       "      <td>1115.868086</td>\n",
       "    </tr>\n",
       "  </tbody>\n",
       "</table>\n",
       "</div>"
      ],
      "text/plain": [
       "        Date         Open         High          Low        Close    Adj Close  \\\n",
       "0 2002-03-15  1153.040039  1166.479980  1153.040039  1166.160034  1166.160034   \n",
       "1 2002-03-18  1166.160034  1172.729980  1159.140015  1165.550049  1165.550049   \n",
       "2 2002-03-19  1165.550049  1173.939941  1165.550049  1170.290039  1170.290039   \n",
       "3 2002-03-20  1170.290039  1170.290039  1151.609985  1151.849976  1151.849976   \n",
       "4 2002-03-21  1151.849976  1155.099976  1139.479980  1153.589966  1153.589966   \n",
       "\n",
       "       Volume          SMA  \n",
       "0  1493900000  1114.914037  \n",
       "1  1169500000  1114.874101  \n",
       "2  1255000000  1115.040005  \n",
       "3  1304900000  1115.382437  \n",
       "4  1339200000  1115.868086  "
      ]
     },
     "execution_count": 15,
     "metadata": {},
     "output_type": "execute_result"
    }
   ],
   "source": [
    "clean_data.head()"
   ]
  },
  {
   "cell_type": "code",
   "execution_count": 16,
   "metadata": {},
   "outputs": [
    {
     "data": {
      "text/plain": [
       "Date         0\n",
       "Open         0\n",
       "High         0\n",
       "Low          0\n",
       "Close        0\n",
       "Adj Close    0\n",
       "Volume       0\n",
       "SMA          0\n",
       "dtype: int64"
      ]
     },
     "execution_count": 16,
     "metadata": {},
     "output_type": "execute_result"
    }
   ],
   "source": [
    "# checking that no NaN values before proceeding\n",
    "clean_data.isnull().sum()"
   ]
  },
  {
   "cell_type": "code",
   "execution_count": 17,
   "metadata": {},
   "outputs": [
    {
     "data": {
      "text/plain": [
       "<matplotlib.axes._subplots.AxesSubplot at 0x11de966d0>"
      ]
     },
     "execution_count": 17,
     "metadata": {},
     "output_type": "execute_result"
    },
    {
     "data": {
      "image/png": "[encoded data removed]",
      "text/plain": [
       "<Figure size 720x432 with 1 Axes>"
      ]
     },
     "metadata": {
      "needs_background": "light"
     },
     "output_type": "display_data"
    }
   ],
   "source": [
    "# Plotting graph of actual closing price vs SMA for 50 days\n",
    "\n",
    "clean_data[['Close', 'SMA']].plot(title='Actual Closing vs SMA',figsize=(10,6))"
   ]
  },
  {
   "cell_type": "markdown",
   "metadata": {},
   "source": [
    "Train-test split for Linear Regression"
   ]
  },
  {
   "cell_type": "code",
   "execution_count": 18,
   "metadata": {},
   "outputs": [
    {
     "name": "stdout",
     "output_type": "stream",
     "text": [
      "3768\n"
     ]
    }
   ],
   "source": [
    "# using a 80% percentage for train-test split\n",
    "split = len(clean_data)*0.80\n",
    "print(int(split))"
   ]
  },
  {
   "cell_type": "code",
   "execution_count": 19,
   "metadata": {},
   "outputs": [
    {
     "data": {
      "text/html": [
       "<div>\n",
       "<style scoped>\n",
       "    .dataframe tbody tr th:only-of-type {\n",
       "        vertical-align: middle;\n",
       "    }\n",
       "\n",
       "    .dataframe tbody tr th {\n",
       "        vertical-align: top;\n",
       "    }\n",
       "\n",
       "    .dataframe thead th {\n",
       "        text-align: right;\n",
       "    }\n",
       "</style>\n",
       "<table border=\"1\" class=\"dataframe\">\n",
       "  <thead>\n",
       "    <tr style=\"text-align: right;\">\n",
       "      <th></th>\n",
       "      <th>Date</th>\n",
       "      <th>Open</th>\n",
       "      <th>High</th>\n",
       "      <th>Low</th>\n",
       "      <th>Close</th>\n",
       "      <th>Adj Close</th>\n",
       "      <th>Volume</th>\n",
       "      <th>SMA</th>\n",
       "    </tr>\n",
       "  </thead>\n",
       "  <tbody>\n",
       "    <tr>\n",
       "      <th>0</th>\n",
       "      <td>2002-03-15</td>\n",
       "      <td>1153.040039</td>\n",
       "      <td>1166.479980</td>\n",
       "      <td>1153.040039</td>\n",
       "      <td>1166.160034</td>\n",
       "      <td>1166.160034</td>\n",
       "      <td>1493900000</td>\n",
       "      <td>1114.914037</td>\n",
       "    </tr>\n",
       "    <tr>\n",
       "      <th>1</th>\n",
       "      <td>2002-03-18</td>\n",
       "      <td>1166.160034</td>\n",
       "      <td>1172.729980</td>\n",
       "      <td>1159.140015</td>\n",
       "      <td>1165.550049</td>\n",
       "      <td>1165.550049</td>\n",
       "      <td>1169500000</td>\n",
       "      <td>1114.874101</td>\n",
       "    </tr>\n",
       "    <tr>\n",
       "      <th>2</th>\n",
       "      <td>2002-03-19</td>\n",
       "      <td>1165.550049</td>\n",
       "      <td>1173.939941</td>\n",
       "      <td>1165.550049</td>\n",
       "      <td>1170.290039</td>\n",
       "      <td>1170.290039</td>\n",
       "      <td>1255000000</td>\n",
       "      <td>1115.040005</td>\n",
       "    </tr>\n",
       "    <tr>\n",
       "      <th>3</th>\n",
       "      <td>2002-03-20</td>\n",
       "      <td>1170.290039</td>\n",
       "      <td>1170.290039</td>\n",
       "      <td>1151.609985</td>\n",
       "      <td>1151.849976</td>\n",
       "      <td>1151.849976</td>\n",
       "      <td>1304900000</td>\n",
       "      <td>1115.382437</td>\n",
       "    </tr>\n",
       "    <tr>\n",
       "      <th>4</th>\n",
       "      <td>2002-03-21</td>\n",
       "      <td>1151.849976</td>\n",
       "      <td>1155.099976</td>\n",
       "      <td>1139.479980</td>\n",
       "      <td>1153.589966</td>\n",
       "      <td>1153.589966</td>\n",
       "      <td>1339200000</td>\n",
       "      <td>1115.868086</td>\n",
       "    </tr>\n",
       "    <tr>\n",
       "      <th>5</th>\n",
       "      <td>2002-03-22</td>\n",
       "      <td>1153.589966</td>\n",
       "      <td>1156.489990</td>\n",
       "      <td>1144.599976</td>\n",
       "      <td>1148.699951</td>\n",
       "      <td>1148.699951</td>\n",
       "      <td>1243300000</td>\n",
       "      <td>1116.472262</td>\n",
       "    </tr>\n",
       "  </tbody>\n",
       "</table>\n",
       "</div>"
      ],
      "text/plain": [
       "        Date         Open         High          Low        Close    Adj Close  \\\n",
       "0 2002-03-15  1153.040039  1166.479980  1153.040039  1166.160034  1166.160034   \n",
       "1 2002-03-18  1166.160034  1172.729980  1159.140015  1165.550049  1165.550049   \n",
       "2 2002-03-19  1165.550049  1173.939941  1165.550049  1170.290039  1170.290039   \n",
       "3 2002-03-20  1170.290039  1170.290039  1151.609985  1151.849976  1151.849976   \n",
       "4 2002-03-21  1151.849976  1155.099976  1139.479980  1153.589966  1153.589966   \n",
       "5 2002-03-22  1153.589966  1156.489990  1144.599976  1148.699951  1148.699951   \n",
       "\n",
       "       Volume          SMA  \n",
       "0  1493900000  1114.914037  \n",
       "1  1169500000  1114.874101  \n",
       "2  1255000000  1115.040005  \n",
       "3  1304900000  1115.382437  \n",
       "4  1339200000  1115.868086  \n",
       "5  1243300000  1116.472262  "
      ]
     },
     "execution_count": 19,
     "metadata": {},
     "output_type": "execute_result"
    }
   ],
   "source": [
    "train = clean_data[:3700]\n",
    "test = clean_data[3700:]\n",
    "train.head(6)"
   ]
  },
  {
   "cell_type": "markdown",
   "metadata": {},
   "source": [
    "Dropping columns that will not be in the preprocessed data to reduce overfitting"
   ]
  },
  {
   "cell_type": "code",
   "execution_count": 20,
   "metadata": {},
   "outputs": [],
   "source": [
    "x_train = train.drop(['Close','Date','Adj Close','High','Low','Open'], axis=1)\n",
    "y_train = train['Close']\n",
    "x_test = test.drop(['Close','Date','Adj Close','High','Low','Open'], axis=1)\n",
    "y_test = test['Close']"
   ]
  },
  {
   "cell_type": "code",
   "execution_count": 21,
   "metadata": {},
   "outputs": [
    {
     "data": {
      "text/html": [
       "<div>\n",
       "<style scoped>\n",
       "    .dataframe tbody tr th:only-of-type {\n",
       "        vertical-align: middle;\n",
       "    }\n",
       "\n",
       "    .dataframe tbody tr th {\n",
       "        vertical-align: top;\n",
       "    }\n",
       "\n",
       "    .dataframe thead th {\n",
       "        text-align: right;\n",
       "    }\n",
       "</style>\n",
       "<table border=\"1\" class=\"dataframe\">\n",
       "  <thead>\n",
       "    <tr style=\"text-align: right;\">\n",
       "      <th></th>\n",
       "      <th>Volume</th>\n",
       "      <th>SMA</th>\n",
       "    </tr>\n",
       "  </thead>\n",
       "  <tbody>\n",
       "    <tr>\n",
       "      <th>0</th>\n",
       "      <td>1493900000</td>\n",
       "      <td>1114.914037</td>\n",
       "    </tr>\n",
       "    <tr>\n",
       "      <th>1</th>\n",
       "      <td>1169500000</td>\n",
       "      <td>1114.874101</td>\n",
       "    </tr>\n",
       "    <tr>\n",
       "      <th>2</th>\n",
       "      <td>1255000000</td>\n",
       "      <td>1115.040005</td>\n",
       "    </tr>\n",
       "    <tr>\n",
       "      <th>3</th>\n",
       "      <td>1304900000</td>\n",
       "      <td>1115.382437</td>\n",
       "    </tr>\n",
       "    <tr>\n",
       "      <th>4</th>\n",
       "      <td>1339200000</td>\n",
       "      <td>1115.868086</td>\n",
       "    </tr>\n",
       "  </tbody>\n",
       "</table>\n",
       "</div>"
      ],
      "text/plain": [
       "       Volume          SMA\n",
       "0  1493900000  1114.914037\n",
       "1  1169500000  1114.874101\n",
       "2  1255000000  1115.040005\n",
       "3  1304900000  1115.382437\n",
       "4  1339200000  1115.868086"
      ]
     },
     "execution_count": 21,
     "metadata": {},
     "output_type": "execute_result"
    }
   ],
   "source": [
    "x_train.head()"
   ]
  },
  {
   "cell_type": "code",
   "execution_count": 22,
   "metadata": {},
   "outputs": [
    {
     "data": {
      "text/plain": [
       "0    1166.160034\n",
       "1    1165.550049\n",
       "2    1170.290039\n",
       "3    1151.849976\n",
       "4    1153.589966\n",
       "Name: Close, dtype: float64"
      ]
     },
     "execution_count": 22,
     "metadata": {},
     "output_type": "execute_result"
    }
   ],
   "source": [
    "y_train.head()"
   ]
  },
  {
   "cell_type": "code",
   "execution_count": 23,
   "metadata": {},
   "outputs": [
    {
     "data": {
      "text/plain": [
       "(1011, 8)"
      ]
     },
     "execution_count": 23,
     "metadata": {},
     "output_type": "execute_result"
    }
   ],
   "source": [
    "test.shape"
   ]
  },
  {
   "cell_type": "markdown",
   "metadata": {},
   "source": [
    "Implementing the Linear Regression benchmark model"
   ]
  },
  {
   "cell_type": "code",
   "execution_count": 24,
   "metadata": {},
   "outputs": [
    {
     "data": {
      "text/plain": [
       "LinearRegression()"
      ]
     },
     "execution_count": 24,
     "metadata": {},
     "output_type": "execute_result"
    }
   ],
   "source": [
    "# implement linear regression\n",
    "from sklearn.linear_model import LinearRegression\n",
    "model = LinearRegression()\n",
    "model.fit(x_train,y_train)"
   ]
  },
  {
   "cell_type": "code",
   "execution_count": 25,
   "metadata": {},
   "outputs": [
    {
     "data": {
      "text/plain": [
       "135.58947263877997"
      ]
     },
     "execution_count": 25,
     "metadata": {},
     "output_type": "execute_result"
    }
   ],
   "source": [
    "import numpy as np\n",
    "#make predictions and find the rmse\n",
    "preds = model.predict(x_test)\n",
    "rms=np.sqrt(np.mean(np.power((np.array(y_test)-np.array(preds)),2)))\n",
    "rms"
   ]
  },
  {
   "cell_type": "code",
   "execution_count": 26,
   "metadata": {},
   "outputs": [
    {
     "data": {
      "text/plain": [
       "count    1011.000000\n",
       "mean     2780.089804\n",
       "std       309.699606\n",
       "min      2140.595146\n",
       "25%      2573.748335\n",
       "50%      2770.869217\n",
       "75%      2967.858917\n",
       "max      3468.274475\n",
       "dtype: float64"
      ]
     },
     "execution_count": 26,
     "metadata": {},
     "output_type": "execute_result"
    }
   ],
   "source": [
    "df = pd.Series(preds)\n",
    "df.describe()"
   ]
  },
  {
   "cell_type": "code",
   "execution_count": 27,
   "metadata": {},
   "outputs": [
    {
     "name": "stderr",
     "output_type": "stream",
     "text": [
      "<ipython-input-27-c3394a6a5a8a>:2: SettingWithCopyWarning: \n",
      "A value is trying to be set on a copy of a slice from a DataFrame.\n",
      "Try using .loc[row_indexer,col_indexer] = value instead\n",
      "\n",
      "See the caveats in the documentation: https://pandas.pydata.org/pandas-docs/stable/user_guide/indexing.html#returning-a-view-versus-a-copy\n",
      "  test['Predictions'] = 0\n",
      "<ipython-input-27-c3394a6a5a8a>:3: SettingWithCopyWarning: \n",
      "A value is trying to be set on a copy of a slice from a DataFrame.\n",
      "Try using .loc[row_indexer,col_indexer] = value instead\n",
      "\n",
      "See the caveats in the documentation: https://pandas.pydata.org/pandas-docs/stable/user_guide/indexing.html#returning-a-view-versus-a-copy\n",
      "  test['Predictions'] = preds\n",
      "No handles with labels found to put in legend.\n"
     ]
    },
    {
     "data": {
      "text/plain": [
       "<matplotlib.legend.Legend at 0x120669eb0>"
      ]
     },
     "execution_count": 27,
     "metadata": {},
     "output_type": "execute_result"
    },
    {
     "data": {
      "image/png": "[encoded data removed]",
      "text/plain": [
       "<Figure size 432x288 with 1 Axes>"
      ]
     },
     "metadata": {
      "needs_background": "light"
     },
     "output_type": "display_data"
    }
   ],
   "source": [
    "#plot\n",
    "test['Predictions'] = 0\n",
    "test['Predictions'] = preds\n",
    "\n",
    "test.index = clean_data[3700:].index\n",
    "train.index = clean_data[:3700].index\n",
    "\n",
    "plt.plot(train['Close'])\n",
    "plt.plot(test[['Close', 'Predictions']])\n",
    "plt.legend()\n",
    "\n"
   ]
  },
  {
   "cell_type": "markdown",
   "metadata": {},
   "source": [
    "# LSTM\n"
   ]
  },
  {
   "cell_type": "code",
   "execution_count": 29,
   "metadata": {},
   "outputs": [
    {
     "name": "stdout",
     "output_type": "stream",
     "text": [
      "Requirement already satisfied: keras in /opt/anaconda3/lib/python3.8/site-packages (2.4.3)\n",
      "Requirement already satisfied: pyyaml in /opt/anaconda3/lib/python3.8/site-packages (from keras) (5.3.1)\n",
      "Requirement already satisfied: h5py in /opt/anaconda3/lib/python3.8/site-packages (from keras) (2.10.0)\n",
      "Requirement already satisfied: numpy>=1.9.1 in /opt/anaconda3/lib/python3.8/site-packages (from keras) (1.18.5)\n",
      "Requirement already satisfied: scipy>=0.14 in /opt/anaconda3/lib/python3.8/site-packages (from keras) (1.4.1)\n",
      "Requirement already satisfied: six in /opt/anaconda3/lib/python3.8/site-packages (from h5py->keras) (1.15.0)\n",
      "Requirement already satisfied: tensorflow in /opt/anaconda3/lib/python3.8/site-packages (2.3.0)\n",
      "Requirement already satisfied: wheel>=0.26 in /opt/anaconda3/lib/python3.8/site-packages (from tensorflow) (0.34.2)\n",
      "Requirement already satisfied: six>=1.12.0 in /opt/anaconda3/lib/python3.8/site-packages (from tensorflow) (1.15.0)\n",
      "Requirement already satisfied: absl-py>=0.7.0 in /opt/anaconda3/lib/python3.8/site-packages (from tensorflow) (0.11.0)\n",
      "Requirement already satisfied: tensorflow-estimator<2.4.0,>=2.3.0 in /opt/anaconda3/lib/python3.8/site-packages (from tensorflow) (2.3.0)\n",
      "Requirement already satisfied: opt-einsum>=2.3.2 in /opt/anaconda3/lib/python3.8/site-packages (from tensorflow) (3.3.0)\n",
      "Requirement already satisfied: protobuf>=3.9.2 in /opt/anaconda3/lib/python3.8/site-packages (from tensorflow) (3.14.0)\n",
      "Requirement already satisfied: google-pasta>=0.1.8 in /opt/anaconda3/lib/python3.8/site-packages (from tensorflow) (0.2.0)\n",
      "Requirement already satisfied: numpy<1.19.0,>=1.16.0 in /opt/anaconda3/lib/python3.8/site-packages (from tensorflow) (1.18.5)\n",
      "Requirement already satisfied: grpcio>=1.8.6 in /opt/anaconda3/lib/python3.8/site-packages (from tensorflow) (1.34.0)\n",
      "Requirement already satisfied: wrapt>=1.11.1 in /opt/anaconda3/lib/python3.8/site-packages (from tensorflow) (1.11.2)\n",
      "Requirement already satisfied: termcolor>=1.1.0 in /opt/anaconda3/lib/python3.8/site-packages (from tensorflow) (1.1.0)\n",
      "Requirement already satisfied: astunparse==1.6.3 in /opt/anaconda3/lib/python3.8/site-packages (from tensorflow) (1.6.3)\n",
      "Requirement already satisfied: scipy==1.4.1 in /opt/anaconda3/lib/python3.8/site-packages (from tensorflow) (1.4.1)\n",
      "Requirement already satisfied: keras-preprocessing<1.2,>=1.1.1 in /opt/anaconda3/lib/python3.8/site-packages (from tensorflow) (1.1.2)\n",
      "Requirement already satisfied: gast==0.3.3 in /opt/anaconda3/lib/python3.8/site-packages (from tensorflow) (0.3.3)\n",
      "Requirement already satisfied: tensorboard<3,>=2.3.0 in /opt/anaconda3/lib/python3.8/site-packages (from tensorflow) (2.4.0)\n",
      "Requirement already satisfied: h5py<2.11.0,>=2.10.0 in /opt/anaconda3/lib/python3.8/site-packages (from tensorflow) (2.10.0)\n",
      "Requirement already satisfied: tensorboard-plugin-wit>=1.6.0 in /opt/anaconda3/lib/python3.8/site-packages (from tensorboard<3,>=2.3.0->tensorflow) (1.7.0)\n",
      "Requirement already satisfied: requests<3,>=2.21.0 in /opt/anaconda3/lib/python3.8/site-packages (from tensorboard<3,>=2.3.0->tensorflow) (2.24.0)\n",
      "Requirement already satisfied: setuptools>=41.0.0 in /opt/anaconda3/lib/python3.8/site-packages (from tensorboard<3,>=2.3.0->tensorflow) (49.2.0.post20200714)\n",
      "Requirement already satisfied: werkzeug>=0.11.15 in /opt/anaconda3/lib/python3.8/site-packages (from tensorboard<3,>=2.3.0->tensorflow) (1.0.1)\n",
      "Requirement already satisfied: google-auth<2,>=1.6.3 in /opt/anaconda3/lib/python3.8/site-packages (from tensorboard<3,>=2.3.0->tensorflow) (1.24.0)\n",
      "Requirement already satisfied: markdown>=2.6.8 in /opt/anaconda3/lib/python3.8/site-packages (from tensorboard<3,>=2.3.0->tensorflow) (3.3.3)\n",
      "Requirement already satisfied: google-auth-oauthlib<0.5,>=0.4.1 in /opt/anaconda3/lib/python3.8/site-packages (from tensorboard<3,>=2.3.0->tensorflow) (0.4.2)\n",
      "Requirement already satisfied: chardet<4,>=3.0.2 in /opt/anaconda3/lib/python3.8/site-packages (from requests<3,>=2.21.0->tensorboard<3,>=2.3.0->tensorflow) (3.0.4)\n",
      "Requirement already satisfied: urllib3!=1.25.0,!=1.25.1,<1.26,>=1.21.1 in /opt/anaconda3/lib/python3.8/site-packages (from requests<3,>=2.21.0->tensorboard<3,>=2.3.0->tensorflow) (1.25.9)\n",
      "Requirement already satisfied: idna<3,>=2.5 in /opt/anaconda3/lib/python3.8/site-packages (from requests<3,>=2.21.0->tensorboard<3,>=2.3.0->tensorflow) (2.10)\n",
      "Requirement already satisfied: certifi>=2017.4.17 in /opt/anaconda3/lib/python3.8/site-packages (from requests<3,>=2.21.0->tensorboard<3,>=2.3.0->tensorflow) (2020.6.20)\n",
      "Requirement already satisfied: cachetools<5.0,>=2.0.0 in /opt/anaconda3/lib/python3.8/site-packages (from google-auth<2,>=1.6.3->tensorboard<3,>=2.3.0->tensorflow) (4.2.0)\n",
      "Requirement already satisfied: rsa<5,>=3.1.4; python_version >= \"3.6\" in /opt/anaconda3/lib/python3.8/site-packages (from google-auth<2,>=1.6.3->tensorboard<3,>=2.3.0->tensorflow) (4.6)\n",
      "Requirement already satisfied: pyasn1-modules>=0.2.1 in /opt/anaconda3/lib/python3.8/site-packages (from google-auth<2,>=1.6.3->tensorboard<3,>=2.3.0->tensorflow) (0.2.8)\n",
      "Requirement already satisfied: requests-oauthlib>=0.7.0 in /opt/anaconda3/lib/python3.8/site-packages (from google-auth-oauthlib<0.5,>=0.4.1->tensorboard<3,>=2.3.0->tensorflow) (1.3.0)\n",
      "Requirement already satisfied: pyasn1>=0.1.3 in /opt/anaconda3/lib/python3.8/site-packages (from rsa<5,>=3.1.4; python_version >= \"3.6\"->google-auth<2,>=1.6.3->tensorboard<3,>=2.3.0->tensorflow) (0.4.8)\n",
      "Requirement already satisfied: oauthlib>=3.0.0 in /opt/anaconda3/lib/python3.8/site-packages (from requests-oauthlib>=0.7.0->google-auth-oauthlib<0.5,>=0.4.1->tensorboard<3,>=2.3.0->tensorflow) (3.1.0)\n"
     ]
    }
   ],
   "source": [
    "!pip install keras\n",
    "!pip install tensorflow"
   ]
  },
  {
   "cell_type": "markdown",
   "metadata": {},
   "source": [
    "Preprocessing data for LSTM Model"
   ]
  },
  {
   "cell_type": "code",
   "execution_count": 30,
   "metadata": {},
   "outputs": [
    {
     "data": {
      "text/html": [
       "<div>\n",
       "<style scoped>\n",
       "    .dataframe tbody tr th:only-of-type {\n",
       "        vertical-align: middle;\n",
       "    }\n",
       "\n",
       "    .dataframe tbody tr th {\n",
       "        vertical-align: top;\n",
       "    }\n",
       "\n",
       "    .dataframe thead th {\n",
       "        text-align: right;\n",
       "    }\n",
       "</style>\n",
       "<table border=\"1\" class=\"dataframe\">\n",
       "  <thead>\n",
       "    <tr style=\"text-align: right;\">\n",
       "      <th></th>\n",
       "      <th>Date</th>\n",
       "      <th>Open</th>\n",
       "      <th>High</th>\n",
       "      <th>Low</th>\n",
       "      <th>Close</th>\n",
       "      <th>Adj Close</th>\n",
       "      <th>Volume</th>\n",
       "      <th>SMA</th>\n",
       "    </tr>\n",
       "  </thead>\n",
       "  <tbody>\n",
       "    <tr>\n",
       "      <th>0</th>\n",
       "      <td>2002-03-15</td>\n",
       "      <td>1153.040039</td>\n",
       "      <td>1166.479980</td>\n",
       "      <td>1153.040039</td>\n",
       "      <td>1166.160034</td>\n",
       "      <td>1166.160034</td>\n",
       "      <td>1493900000</td>\n",
       "      <td>1114.914037</td>\n",
       "    </tr>\n",
       "    <tr>\n",
       "      <th>1</th>\n",
       "      <td>2002-03-18</td>\n",
       "      <td>1166.160034</td>\n",
       "      <td>1172.729980</td>\n",
       "      <td>1159.140015</td>\n",
       "      <td>1165.550049</td>\n",
       "      <td>1165.550049</td>\n",
       "      <td>1169500000</td>\n",
       "      <td>1114.874101</td>\n",
       "    </tr>\n",
       "    <tr>\n",
       "      <th>2</th>\n",
       "      <td>2002-03-19</td>\n",
       "      <td>1165.550049</td>\n",
       "      <td>1173.939941</td>\n",
       "      <td>1165.550049</td>\n",
       "      <td>1170.290039</td>\n",
       "      <td>1170.290039</td>\n",
       "      <td>1255000000</td>\n",
       "      <td>1115.040005</td>\n",
       "    </tr>\n",
       "    <tr>\n",
       "      <th>3</th>\n",
       "      <td>2002-03-20</td>\n",
       "      <td>1170.290039</td>\n",
       "      <td>1170.290039</td>\n",
       "      <td>1151.609985</td>\n",
       "      <td>1151.849976</td>\n",
       "      <td>1151.849976</td>\n",
       "      <td>1304900000</td>\n",
       "      <td>1115.382437</td>\n",
       "    </tr>\n",
       "    <tr>\n",
       "      <th>4</th>\n",
       "      <td>2002-03-21</td>\n",
       "      <td>1151.849976</td>\n",
       "      <td>1155.099976</td>\n",
       "      <td>1139.479980</td>\n",
       "      <td>1153.589966</td>\n",
       "      <td>1153.589966</td>\n",
       "      <td>1339200000</td>\n",
       "      <td>1115.868086</td>\n",
       "    </tr>\n",
       "  </tbody>\n",
       "</table>\n",
       "</div>"
      ],
      "text/plain": [
       "        Date         Open         High          Low        Close    Adj Close  \\\n",
       "0 2002-03-15  1153.040039  1166.479980  1153.040039  1166.160034  1166.160034   \n",
       "1 2002-03-18  1166.160034  1172.729980  1159.140015  1165.550049  1165.550049   \n",
       "2 2002-03-19  1165.550049  1173.939941  1165.550049  1170.290039  1170.290039   \n",
       "3 2002-03-20  1170.290039  1170.290039  1151.609985  1151.849976  1151.849976   \n",
       "4 2002-03-21  1151.849976  1155.099976  1139.479980  1153.589966  1153.589966   \n",
       "\n",
       "       Volume          SMA  \n",
       "0  1493900000  1114.914037  \n",
       "1  1169500000  1114.874101  \n",
       "2  1255000000  1115.040005  \n",
       "3  1304900000  1115.382437  \n",
       "4  1339200000  1115.868086  "
      ]
     },
     "execution_count": 30,
     "metadata": {},
     "output_type": "execute_result"
    }
   ],
   "source": [
    "clean_data.head()"
   ]
  },
  {
   "cell_type": "code",
   "execution_count": 31,
   "metadata": {},
   "outputs": [
    {
     "data": {
      "text/html": [
       "<div>\n",
       "<style scoped>\n",
       "    .dataframe tbody tr th:only-of-type {\n",
       "        vertical-align: middle;\n",
       "    }\n",
       "\n",
       "    .dataframe tbody tr th {\n",
       "        vertical-align: top;\n",
       "    }\n",
       "\n",
       "    .dataframe thead th {\n",
       "        text-align: right;\n",
       "    }\n",
       "</style>\n",
       "<table border=\"1\" class=\"dataframe\">\n",
       "  <thead>\n",
       "    <tr style=\"text-align: right;\">\n",
       "      <th></th>\n",
       "      <th>Date</th>\n",
       "      <th>Open</th>\n",
       "      <th>High</th>\n",
       "      <th>Low</th>\n",
       "      <th>Close</th>\n",
       "      <th>Adj Close</th>\n",
       "      <th>Volume</th>\n",
       "      <th>SMA</th>\n",
       "    </tr>\n",
       "  </thead>\n",
       "  <tbody>\n",
       "    <tr>\n",
       "      <th>0</th>\n",
       "      <td>2002-03-15</td>\n",
       "      <td>1153.040039</td>\n",
       "      <td>1166.479980</td>\n",
       "      <td>1153.040039</td>\n",
       "      <td>1166.160034</td>\n",
       "      <td>1166.160034</td>\n",
       "      <td>1493900000</td>\n",
       "      <td>1114.914037</td>\n",
       "    </tr>\n",
       "    <tr>\n",
       "      <th>1</th>\n",
       "      <td>2002-03-18</td>\n",
       "      <td>1166.160034</td>\n",
       "      <td>1172.729980</td>\n",
       "      <td>1159.140015</td>\n",
       "      <td>1165.550049</td>\n",
       "      <td>1165.550049</td>\n",
       "      <td>1169500000</td>\n",
       "      <td>1114.874101</td>\n",
       "    </tr>\n",
       "    <tr>\n",
       "      <th>2</th>\n",
       "      <td>2002-03-19</td>\n",
       "      <td>1165.550049</td>\n",
       "      <td>1173.939941</td>\n",
       "      <td>1165.550049</td>\n",
       "      <td>1170.290039</td>\n",
       "      <td>1170.290039</td>\n",
       "      <td>1255000000</td>\n",
       "      <td>1115.040005</td>\n",
       "    </tr>\n",
       "    <tr>\n",
       "      <th>3</th>\n",
       "      <td>2002-03-20</td>\n",
       "      <td>1170.290039</td>\n",
       "      <td>1170.290039</td>\n",
       "      <td>1151.609985</td>\n",
       "      <td>1151.849976</td>\n",
       "      <td>1151.849976</td>\n",
       "      <td>1304900000</td>\n",
       "      <td>1115.382437</td>\n",
       "    </tr>\n",
       "    <tr>\n",
       "      <th>4</th>\n",
       "      <td>2002-03-21</td>\n",
       "      <td>1151.849976</td>\n",
       "      <td>1155.099976</td>\n",
       "      <td>1139.479980</td>\n",
       "      <td>1153.589966</td>\n",
       "      <td>1153.589966</td>\n",
       "      <td>1339200000</td>\n",
       "      <td>1115.868086</td>\n",
       "    </tr>\n",
       "  </tbody>\n",
       "</table>\n",
       "</div>"
      ],
      "text/plain": [
       "        Date         Open         High          Low        Close    Adj Close  \\\n",
       "0 2002-03-15  1153.040039  1166.479980  1153.040039  1166.160034  1166.160034   \n",
       "1 2002-03-18  1166.160034  1172.729980  1159.140015  1165.550049  1165.550049   \n",
       "2 2002-03-19  1165.550049  1173.939941  1165.550049  1170.290039  1170.290039   \n",
       "3 2002-03-20  1170.290039  1170.290039  1151.609985  1151.849976  1151.849976   \n",
       "4 2002-03-21  1151.849976  1155.099976  1139.479980  1153.589966  1153.589966   \n",
       "\n",
       "       Volume          SMA  \n",
       "0  1493900000  1114.914037  \n",
       "1  1169500000  1114.874101  \n",
       "2  1255000000  1115.040005  \n",
       "3  1304900000  1115.382437  \n",
       "4  1339200000  1115.868086  "
      ]
     },
     "execution_count": 31,
     "metadata": {},
     "output_type": "execute_result"
    }
   ],
   "source": [
    "dataLSTM = clean_data.sort_index(ascending=True, axis=0)\n",
    "dataLSTM.head()"
   ]
  },
  {
   "cell_type": "code",
   "execution_count": 32,
   "metadata": {},
   "outputs": [],
   "source": [
    "new_data = pd.DataFrame(index=range(0,len(clean_data)),columns=['Date', 'Close'])"
   ]
  },
  {
   "cell_type": "code",
   "execution_count": 33,
   "metadata": {},
   "outputs": [
    {
     "data": {
      "text/plain": [
       "0       NaN\n",
       "1       NaN\n",
       "2       NaN\n",
       "3       NaN\n",
       "4       NaN\n",
       "       ... \n",
       "4706    NaN\n",
       "4707    NaN\n",
       "4708    NaN\n",
       "4709    NaN\n",
       "4710    NaN\n",
       "Name: Date, Length: 4711, dtype: object"
      ]
     },
     "execution_count": 33,
     "metadata": {},
     "output_type": "execute_result"
    }
   ],
   "source": [
    "new_data['Date']"
   ]
  },
  {
   "cell_type": "code",
   "execution_count": 34,
   "metadata": {},
   "outputs": [
    {
     "data": {
      "text/plain": [
       "4711"
      ]
     },
     "execution_count": 34,
     "metadata": {},
     "output_type": "execute_result"
    }
   ],
   "source": [
    "len(dataLSTM)"
   ]
  },
  {
   "cell_type": "code",
   "execution_count": 35,
   "metadata": {},
   "outputs": [],
   "source": [
    "for i in range(0,len(dataLSTM)):\n",
    "    new_data['Date'][i] = dataLSTM['Date'][i]\n",
    "    new_data['Close'][i] = dataLSTM['Close'][i]"
   ]
  },
  {
   "cell_type": "code",
   "execution_count": 36,
   "metadata": {},
   "outputs": [
    {
     "data": {
      "text/plain": [
       "0       1166.16\n",
       "1       1165.55\n",
       "2       1170.29\n",
       "3       1151.85\n",
       "4       1153.59\n",
       "         ...   \n",
       "4706    3557.54\n",
       "4707    3577.59\n",
       "4708    3635.41\n",
       "4709    3629.65\n",
       "4710    3638.35\n",
       "Name: Close, Length: 4711, dtype: object"
      ]
     },
     "execution_count": 36,
     "metadata": {},
     "output_type": "execute_result"
    }
   ],
   "source": [
    "new_data['Close']"
   ]
  },
  {
   "cell_type": "code",
   "execution_count": 38,
   "metadata": {},
   "outputs": [],
   "source": [
    "#setting index\n",
    "new_data.index = new_data.Date\n",
    "new_data.drop('Date', axis=1, inplace=True)"
   ]
  },
  {
   "cell_type": "code",
   "execution_count": 39,
   "metadata": {},
   "outputs": [
    {
     "data": {
      "text/html": [
       "<div>\n",
       "<style scoped>\n",
       "    .dataframe tbody tr th:only-of-type {\n",
       "        vertical-align: middle;\n",
       "    }\n",
       "\n",
       "    .dataframe tbody tr th {\n",
       "        vertical-align: top;\n",
       "    }\n",
       "\n",
       "    .dataframe thead th {\n",
       "        text-align: right;\n",
       "    }\n",
       "</style>\n",
       "<table border=\"1\" class=\"dataframe\">\n",
       "  <thead>\n",
       "    <tr style=\"text-align: right;\">\n",
       "      <th></th>\n",
       "      <th>Close</th>\n",
       "    </tr>\n",
       "    <tr>\n",
       "      <th>Date</th>\n",
       "      <th></th>\n",
       "    </tr>\n",
       "  </thead>\n",
       "  <tbody>\n",
       "    <tr>\n",
       "      <th>2002-03-15</th>\n",
       "      <td>1166.16</td>\n",
       "    </tr>\n",
       "    <tr>\n",
       "      <th>2002-03-18</th>\n",
       "      <td>1165.55</td>\n",
       "    </tr>\n",
       "    <tr>\n",
       "      <th>2002-03-19</th>\n",
       "      <td>1170.29</td>\n",
       "    </tr>\n",
       "    <tr>\n",
       "      <th>2002-03-20</th>\n",
       "      <td>1151.85</td>\n",
       "    </tr>\n",
       "    <tr>\n",
       "      <th>2002-03-21</th>\n",
       "      <td>1153.59</td>\n",
       "    </tr>\n",
       "  </tbody>\n",
       "</table>\n",
       "</div>"
      ],
      "text/plain": [
       "              Close\n",
       "Date               \n",
       "2002-03-15  1166.16\n",
       "2002-03-18  1165.55\n",
       "2002-03-19  1170.29\n",
       "2002-03-20  1151.85\n",
       "2002-03-21  1153.59"
      ]
     },
     "execution_count": 39,
     "metadata": {},
     "output_type": "execute_result"
    }
   ],
   "source": [
    "new_data.head()"
   ]
  },
  {
   "cell_type": "markdown",
   "metadata": {},
   "source": [
    "Once data is processed for LSTM to start importing and processing"
   ]
  },
  {
   "cell_type": "code",
   "execution_count": 40,
   "metadata": {},
   "outputs": [],
   "source": [
    "#importing required libraries\n",
    "from sklearn.preprocessing import MinMaxScaler\n",
    "from keras.models import Sequential\n",
    "from keras.layers import Dense, Dropout, LSTM"
   ]
  },
  {
   "cell_type": "code",
   "execution_count": 41,
   "metadata": {},
   "outputs": [],
   "source": [
    "#creating train and test sets using a train-test split of approx 80%\n",
    "dataset = new_data.values\n",
    "\n",
    "train = dataset[0:3700,:]\n",
    "test = dataset[3700:,:]"
   ]
  },
  {
   "cell_type": "code",
   "execution_count": 43,
   "metadata": {},
   "outputs": [],
   "source": [
    "#converting dataset into x_train and y_train\n",
    "scaler = MinMaxScaler(feature_range=(0, 1))\n",
    "scaled_data = scaler.fit_transform(dataset)\n",
    "\n",
    "x_train, y_train = [], []\n",
    "for i in range(60,len(train)):\n",
    "    x_train.append(scaled_data[i-60:i,0])\n",
    "    y_train.append(scaled_data[i,0])\n",
    "x_train, y_train = np.array(x_train), np.array(y_train)\n",
    "\n",
    "x_train = np.reshape(x_train, (x_train.shape[0],x_train.shape[1],1))"
   ]
  },
  {
   "cell_type": "code",
   "execution_count": 44,
   "metadata": {},
   "outputs": [],
   "source": [
    "# create and fit the LSTM network\n",
    "model = Sequential()\n",
    "\n",
    "model.add(LSTM(units=100, return_sequences=True, input_shape=(x_train.shape[1],1)))\n",
    "model.add(Dropout(0.2))\n",
    "model.add(LSTM(units=75))\n",
    "model.add(Dropout(0.2))\n",
    "model.add(Dense(1))"
   ]
  },
  {
   "cell_type": "code",
   "execution_count": 47,
   "metadata": {},
   "outputs": [
    {
     "name": "stdout",
     "output_type": "stream",
     "text": [
      "Epoch 1/25\n",
      "26/26 - 4s - loss: 6.1937e-04 - val_loss: 1.4025e-04\n",
      "Epoch 2/25\n",
      "26/26 - 4s - loss: 2.5169e-04 - val_loss: 1.8193e-04\n",
      "Epoch 3/25\n",
      "26/26 - 4s - loss: 2.5696e-04 - val_loss: 1.3283e-04\n",
      "Epoch 4/25\n",
      "26/26 - 4s - loss: 2.3715e-04 - val_loss: 2.2084e-04\n",
      "Epoch 5/25\n",
      "26/26 - 4s - loss: 2.5299e-04 - val_loss: 1.4846e-04\n",
      "Epoch 6/25\n",
      "26/26 - 4s - loss: 2.4412e-04 - val_loss: 2.5606e-04\n",
      "Epoch 7/25\n",
      "26/26 - 3s - loss: 2.3517e-04 - val_loss: 2.3813e-04\n",
      "Epoch 8/25\n",
      "26/26 - 3s - loss: 2.1907e-04 - val_loss: 3.7895e-04\n",
      "Epoch 9/25\n",
      "26/26 - 4s - loss: 2.3707e-04 - val_loss: 1.2165e-04\n",
      "Epoch 10/25\n",
      "26/26 - 3s - loss: 2.0240e-04 - val_loss: 1.2309e-04\n",
      "Epoch 11/25\n",
      "26/26 - 3s - loss: 2.1425e-04 - val_loss: 1.2582e-04\n",
      "Epoch 12/25\n",
      "26/26 - 3s - loss: 2.2785e-04 - val_loss: 1.1995e-04\n",
      "Epoch 13/25\n",
      "26/26 - 4s - loss: 2.2777e-04 - val_loss: 1.3017e-04\n",
      "Epoch 14/25\n",
      "26/26 - 3s - loss: 2.0095e-04 - val_loss: 1.2404e-04\n",
      "Epoch 15/25\n",
      "26/26 - 3s - loss: 1.9130e-04 - val_loss: 2.5126e-04\n",
      "Epoch 16/25\n",
      "26/26 - 3s - loss: 1.9427e-04 - val_loss: 1.1206e-04\n",
      "Epoch 17/25\n",
      "26/26 - 3s - loss: 2.1090e-04 - val_loss: 1.1255e-04\n",
      "Epoch 18/25\n",
      "26/26 - 3s - loss: 1.9319e-04 - val_loss: 1.2260e-04\n",
      "Epoch 19/25\n",
      "26/26 - 3s - loss: 1.8720e-04 - val_loss: 1.1991e-04\n",
      "Epoch 20/25\n",
      "26/26 - 3s - loss: 1.7497e-04 - val_loss: 1.3888e-04\n",
      "Epoch 21/25\n",
      "26/26 - 3s - loss: 1.8016e-04 - val_loss: 1.0675e-04\n",
      "Epoch 22/25\n",
      "26/26 - 3s - loss: 1.7552e-04 - val_loss: 1.1301e-04\n",
      "Epoch 23/25\n",
      "26/26 - 3s - loss: 1.7115e-04 - val_loss: 1.0514e-04\n",
      "Epoch 24/25\n",
      "26/26 - 4s - loss: 1.8389e-04 - val_loss: 1.2609e-04\n",
      "Epoch 25/25\n",
      "26/26 - 3s - loss: 1.6498e-04 - val_loss: 1.8196e-04\n"
     ]
    }
   ],
   "source": [
    "model.compile(loss='mean_squared_error', optimizer='adam')\n",
    "model.fit(x_train, y_train, epochs=25, batch_size=128, validation_split = 0.1, verbose=2)\n",
    "\n",
    "#predicting using past data from the train data\n",
    "inputs = new_data[len(new_data) - len(test) - 60:].values\n",
    "inputs = inputs.reshape(-1,1)\n",
    "inputs  = scaler.transform(inputs)\n",
    "\n",
    "X_test = []\n",
    "for i in range(60,inputs.shape[0]):\n",
    "    X_test.append(inputs[i-60:i,0])\n",
    "X_test = np.array(X_test)\n",
    "\n",
    "X_test = np.reshape(X_test, (X_test.shape[0],X_test.shape[1],1))\n",
    "closing_price = model.predict(X_test)\n",
    "closing_price = scaler.inverse_transform(closing_price)"
   ]
  },
  {
   "cell_type": "code",
   "execution_count": 48,
   "metadata": {},
   "outputs": [
    {
     "data": {
      "text/plain": [
       "71.48414079543073"
      ]
     },
     "execution_count": 48,
     "metadata": {},
     "output_type": "execute_result"
    }
   ],
   "source": [
    "rms=np.sqrt(np.mean(np.power((test-closing_price),2)))\n",
    "rms"
   ]
  },
  {
   "cell_type": "code",
   "execution_count": 49,
   "metadata": {},
   "outputs": [
    {
     "name": "stderr",
     "output_type": "stream",
     "text": [
      "<ipython-input-49-7bce2710a5b5>:4: SettingWithCopyWarning: \n",
      "A value is trying to be set on a copy of a slice from a DataFrame.\n",
      "Try using .loc[row_indexer,col_indexer] = value instead\n",
      "\n",
      "See the caveats in the documentation: https://pandas.pydata.org/pandas-docs/stable/user_guide/indexing.html#returning-a-view-versus-a-copy\n",
      "  test['Predictions'] = closing_price\n"
     ]
    },
    {
     "data": {
      "text/plain": [
       "[<matplotlib.lines.Line2D at 0x142b82850>,\n",
       " <matplotlib.lines.Line2D at 0x142b82970>]"
      ]
     },
     "execution_count": 49,
     "metadata": {},
     "output_type": "execute_result"
    },
    {
     "data": {
      "image/png": "[encoded data removed]",
      "text/plain": [
       "<Figure size 432x288 with 1 Axes>"
      ]
     },
     "metadata": {
      "needs_background": "light"
     },
     "output_type": "display_data"
    }
   ],
   "source": [
    "#for plotting\n",
    "train = new_data[:3700]\n",
    "test = new_data[3700:]\n",
    "test['Predictions'] = closing_price\n",
    "plt.plot(train['Close'])\n",
    "plt.plot(test[['Close','Predictions']])"
   ]
  }
 ],
 "metadata": {
  "kernelspec": {
   "display_name": "Python 3",
   "language": "python",
   "name": "python3"
  },
  "language_info": {
   "codemirror_mode": {
    "name": "ipython",
    "version": 3
   },
   "file_extension": ".py",
   "mimetype": "text/x-python",
   "name": "python",
   "nbconvert_exporter": "python",
   "pygments_lexer": "ipython3",
   "version": "3.8.3"
  }
 },
 "nbformat": 4,
 "nbformat_minor": 4
}
