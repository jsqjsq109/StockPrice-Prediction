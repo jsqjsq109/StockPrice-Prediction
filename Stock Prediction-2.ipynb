{
 "cells": [
  {
   "cell_type": "markdown",
   "metadata": {},
   "source": [
    "# Obtaining data"
   ]
  },
  {
   "cell_type": "markdown",
   "metadata": {},
   "source": [
    "Importing library and generating Yahoo Finance link"
   ]
  },
  {
   "cell_type": "code",
   "execution_count": 1,
   "metadata": {},
   "outputs": [],
   "source": [
    "import pandas as pd\n",
    "import datetime\n",
    "import numpy as np"
   ]
  },
  {
   "cell_type": "code",
   "execution_count": 2,
   "metadata": {},
   "outputs": [],
   "source": [
    "symbol = 'GSPC'\n",
    "start_date = '2016-01-01'\n",
    "end_date = '2020-11-21'"
   ]
  },
  {
   "cell_type": "code",
   "execution_count": 3,
   "metadata": {},
   "outputs": [],
   "source": [
    "start= datetime.datetime(int(start_date[0:4]), int(start_date[5:7]), int(start_date[8:10])).timestamp()\n",
    "end = datetime.datetime(int(end_date[0:4]), int(end_date[5:7]), int(end_date[8:10])).timestamp()\n",
    "\n",
    "url_string = \"https://finance.yahoo.com/quote/%5E{}/history?\".format(symbol)\n",
    "url_string += \"period1={0}&period2={1}&interval=1d&filter=history&frequency=1d&includeAdjustedClose=true\".format(int(start), int(end))\n"
   ]
  },
  {
   "cell_type": "markdown",
   "metadata": {},
   "source": [
    "Inputs to generate URL link for S&P stock form 1 Jan 2016 up to 21 Nov 2020"
   ]
  },
  {
   "cell_type": "code",
   "execution_count": 4,
   "metadata": {},
   "outputs": [
    {
     "name": "stdout",
     "output_type": "stream",
     "text": [
      "https://finance.yahoo.com/quote/%5EGSPC/history?period1=1451577600&period2=1605888000&interval=1d&filter=history&frequency=1d&includeAdjustedClose=true\n"
     ]
    }
   ],
   "source": [
    "print(url_string)"
   ]
  },
  {
   "cell_type": "markdown",
   "metadata": {},
   "source": [
    "Open up link and click download to get CSV file , file name will be ^GSPC.csv in this case for S&P500"
   ]
  },
  {
   "cell_type": "markdown",
   "metadata": {},
   "source": [
    "## Preprocess data"
   ]
  },
  {
   "cell_type": "code",
   "execution_count": 5,
   "metadata": {},
   "outputs": [
    {
     "name": "stdout",
     "output_type": "stream",
     "text": [
      "1233\n"
     ]
    }
   ],
   "source": [
    "filename = '^'+symbol\n",
    "\n",
    "data = pd.read_csv(filename + '.csv')\n",
    "\n",
    "data['Date'] = pd.to_datetime(data['Date'],format='%Y-%m-%d')\n",
    "data.index = np.arange(1,len(data)+1)\n",
    "print(len(data))\n",
    "#print(type(data0))\n",
    "#data = data0.set_index('Date')"
   ]
  },
  {
   "cell_type": "code",
   "execution_count": 6,
   "metadata": {},
   "outputs": [
    {
     "name": "stdout",
     "output_type": "stream",
     "text": [
      "           Date         Open         High          Low        Close  \\\n",
      "1229 2020-11-16  3600.159912  3628.510010  3600.159912  3626.909912   \n",
      "1230 2020-11-17  3610.310059  3623.110107  3588.679932  3609.530029   \n",
      "1231 2020-11-18  3612.090088  3619.090088  3567.330078  3567.790039   \n",
      "1232 2020-11-19  3559.409912  3585.219971  3543.840088  3581.870117   \n",
      "1233 2020-11-20  3579.310059  3581.229980  3556.850098  3557.540039   \n",
      "\n",
      "        Adj Close      Volume  \n",
      "1229  3626.909912  5281980000  \n",
      "1230  3609.530029  4799570000  \n",
      "1231  3567.790039  5274450000  \n",
      "1232  3581.870117  4347200000  \n",
      "1233  3557.540039  4218970000  \n",
      "        Date         Open         High          Low        Close    Adj Close  \\\n",
      "1 2015-12-31  2060.590088  2062.540039  2043.619995  2043.939941  2043.939941   \n",
      "2 2016-01-04  2038.199951  2038.199951  1989.680054  2012.660034  2012.660034   \n",
      "3 2016-01-05  2013.780029  2021.939941  2004.170044  2016.709961  2016.709961   \n",
      "4 2016-01-06  2011.709961  2011.709961  1979.050049  1990.260010  1990.260010   \n",
      "5 2016-01-07  1985.319946  1985.319946  1938.829956  1943.089966  1943.089966   \n",
      "\n",
      "       Volume  \n",
      "1  2655330000  \n",
      "2  4304880000  \n",
      "3  3706620000  \n",
      "4  4336660000  \n",
      "5  5076590000  \n"
     ]
    }
   ],
   "source": [
    "print(data.tail())\n",
    "print(data.head())"
   ]
  },
  {
   "cell_type": "code",
   "execution_count": 7,
   "metadata": {},
   "outputs": [
    {
     "data": {
      "image/png": "[encoded data removed]",
      "text/plain": [
       "<Figure size 432x288 with 1 Axes>"
      ]
     },
     "metadata": {
      "needs_background": "light"
     },
     "output_type": "display_data"
    }
   ],
   "source": [
    "#plotting prices on a graph to see overview\n",
    "\n",
    "import matplotlib.pyplot as plt\n",
    "data.Close.plot()\n",
    "\n",
    "plt.title('S&P 500 Prices')\n",
    "plt.ylabel('Closing Price')\n",
    "plt.xlabel('Date')\n",
    "plt.show()"
   ]
  },
  {
   "cell_type": "markdown",
   "metadata": {},
   "source": [
    "# Adding additional columns"
   ]
  },
  {
   "cell_type": "markdown",
   "metadata": {},
   "source": [
    "Adding 4 additional fields \n",
    "1. Simple Moving Average \n",
    "2. 5 days later closing price\n",
    "3. 5 days % changes for the current day\n",
    "4. 5 days % change in the future"
   ]
  },
  {
   "cell_type": "code",
   "execution_count": 8,
   "metadata": {},
   "outputs": [],
   "source": [
    "# Adding Simple Moving Average column for 50 days \n",
    "data['SMA']=data.Close.rolling(50,win_type = 'triang').mean()\n"
   ]
  },
  {
   "cell_type": "code",
   "execution_count": 9,
   "metadata": {},
   "outputs": [],
   "source": [
    "# Create 5-day % changes of Last for the current day, and 5 days in the future columns\n",
    "data['5d_future_close'] = data['Close'].shift(-5)\n",
    "data['5d_close_future_pct'] = data['5d_future_close'].pct_change(5)\n",
    "data['5d_close_pct'] = data['Close'].pct_change(5)"
   ]
  },
  {
   "cell_type": "code",
   "execution_count": 10,
   "metadata": {},
   "outputs": [
    {
     "data": {
      "text/html": [
       "<div>\n",
       "<style scoped>\n",
       "    .dataframe tbody tr th:only-of-type {\n",
       "        vertical-align: middle;\n",
       "    }\n",
       "\n",
       "    .dataframe tbody tr th {\n",
       "        vertical-align: top;\n",
       "    }\n",
       "\n",
       "    .dataframe thead th {\n",
       "        text-align: right;\n",
       "    }\n",
       "</style>\n",
       "<table border=\"1\" class=\"dataframe\">\n",
       "  <thead>\n",
       "    <tr style=\"text-align: right;\">\n",
       "      <th></th>\n",
       "      <th>Date</th>\n",
       "      <th>Open</th>\n",
       "      <th>High</th>\n",
       "      <th>Low</th>\n",
       "      <th>Close</th>\n",
       "      <th>Adj Close</th>\n",
       "      <th>Volume</th>\n",
       "      <th>SMA</th>\n",
       "      <th>5d_future_close</th>\n",
       "      <th>5d_close_future_pct</th>\n",
       "      <th>5d_close_pct</th>\n",
       "    </tr>\n",
       "  </thead>\n",
       "  <tbody>\n",
       "    <tr>\n",
       "      <th>1</th>\n",
       "      <td>2015-12-31</td>\n",
       "      <td>2060.590088</td>\n",
       "      <td>2062.540039</td>\n",
       "      <td>2043.619995</td>\n",
       "      <td>2043.939941</td>\n",
       "      <td>2043.939941</td>\n",
       "      <td>2655330000</td>\n",
       "      <td>NaN</td>\n",
       "      <td>1922.030029</td>\n",
       "      <td>NaN</td>\n",
       "      <td>NaN</td>\n",
       "    </tr>\n",
       "    <tr>\n",
       "      <th>2</th>\n",
       "      <td>2016-01-04</td>\n",
       "      <td>2038.199951</td>\n",
       "      <td>2038.199951</td>\n",
       "      <td>1989.680054</td>\n",
       "      <td>2012.660034</td>\n",
       "      <td>2012.660034</td>\n",
       "      <td>4304880000</td>\n",
       "      <td>NaN</td>\n",
       "      <td>1923.670044</td>\n",
       "      <td>NaN</td>\n",
       "      <td>NaN</td>\n",
       "    </tr>\n",
       "    <tr>\n",
       "      <th>3</th>\n",
       "      <td>2016-01-05</td>\n",
       "      <td>2013.780029</td>\n",
       "      <td>2021.939941</td>\n",
       "      <td>2004.170044</td>\n",
       "      <td>2016.709961</td>\n",
       "      <td>2016.709961</td>\n",
       "      <td>3706620000</td>\n",
       "      <td>NaN</td>\n",
       "      <td>1938.680054</td>\n",
       "      <td>NaN</td>\n",
       "      <td>NaN</td>\n",
       "    </tr>\n",
       "    <tr>\n",
       "      <th>4</th>\n",
       "      <td>2016-01-06</td>\n",
       "      <td>2011.709961</td>\n",
       "      <td>2011.709961</td>\n",
       "      <td>1979.050049</td>\n",
       "      <td>1990.260010</td>\n",
       "      <td>1990.260010</td>\n",
       "      <td>4336660000</td>\n",
       "      <td>NaN</td>\n",
       "      <td>1890.280029</td>\n",
       "      <td>NaN</td>\n",
       "      <td>NaN</td>\n",
       "    </tr>\n",
       "    <tr>\n",
       "      <th>5</th>\n",
       "      <td>2016-01-07</td>\n",
       "      <td>1985.319946</td>\n",
       "      <td>1985.319946</td>\n",
       "      <td>1938.829956</td>\n",
       "      <td>1943.089966</td>\n",
       "      <td>1943.089966</td>\n",
       "      <td>5076590000</td>\n",
       "      <td>NaN</td>\n",
       "      <td>1921.839966</td>\n",
       "      <td>NaN</td>\n",
       "      <td>NaN</td>\n",
       "    </tr>\n",
       "    <tr>\n",
       "      <th>6</th>\n",
       "      <td>2016-01-08</td>\n",
       "      <td>1945.969971</td>\n",
       "      <td>1960.400024</td>\n",
       "      <td>1918.459961</td>\n",
       "      <td>1922.030029</td>\n",
       "      <td>1922.030029</td>\n",
       "      <td>4664940000</td>\n",
       "      <td>NaN</td>\n",
       "      <td>1880.329956</td>\n",
       "      <td>-0.021696</td>\n",
       "      <td>-0.059645</td>\n",
       "    </tr>\n",
       "  </tbody>\n",
       "</table>\n",
       "</div>"
      ],
      "text/plain": [
       "        Date         Open         High          Low        Close    Adj Close  \\\n",
       "1 2015-12-31  2060.590088  2062.540039  2043.619995  2043.939941  2043.939941   \n",
       "2 2016-01-04  2038.199951  2038.199951  1989.680054  2012.660034  2012.660034   \n",
       "3 2016-01-05  2013.780029  2021.939941  2004.170044  2016.709961  2016.709961   \n",
       "4 2016-01-06  2011.709961  2011.709961  1979.050049  1990.260010  1990.260010   \n",
       "5 2016-01-07  1985.319946  1985.319946  1938.829956  1943.089966  1943.089966   \n",
       "6 2016-01-08  1945.969971  1960.400024  1918.459961  1922.030029  1922.030029   \n",
       "\n",
       "       Volume  SMA  5d_future_close  5d_close_future_pct  5d_close_pct  \n",
       "1  2655330000  NaN      1922.030029                  NaN           NaN  \n",
       "2  4304880000  NaN      1923.670044                  NaN           NaN  \n",
       "3  3706620000  NaN      1938.680054                  NaN           NaN  \n",
       "4  4336660000  NaN      1890.280029                  NaN           NaN  \n",
       "5  5076590000  NaN      1921.839966                  NaN           NaN  \n",
       "6  4664940000  NaN      1880.329956            -0.021696     -0.059645  "
      ]
     },
     "execution_count": 10,
     "metadata": {},
     "output_type": "execute_result"
    }
   ],
   "source": [
    "data.head(6)"
   ]
  },
  {
   "cell_type": "code",
   "execution_count": 11,
   "metadata": {},
   "outputs": [
    {
     "data": {
      "text/html": [
       "<div>\n",
       "<style scoped>\n",
       "    .dataframe tbody tr th:only-of-type {\n",
       "        vertical-align: middle;\n",
       "    }\n",
       "\n",
       "    .dataframe tbody tr th {\n",
       "        vertical-align: top;\n",
       "    }\n",
       "\n",
       "    .dataframe thead th {\n",
       "        text-align: right;\n",
       "    }\n",
       "</style>\n",
       "<table border=\"1\" class=\"dataframe\">\n",
       "  <thead>\n",
       "    <tr style=\"text-align: right;\">\n",
       "      <th></th>\n",
       "      <th>Date</th>\n",
       "      <th>Open</th>\n",
       "      <th>High</th>\n",
       "      <th>Low</th>\n",
       "      <th>Close</th>\n",
       "      <th>Adj Close</th>\n",
       "      <th>Volume</th>\n",
       "      <th>SMA</th>\n",
       "      <th>5d_future_close</th>\n",
       "      <th>5d_close_future_pct</th>\n",
       "      <th>5d_close_pct</th>\n",
       "    </tr>\n",
       "  </thead>\n",
       "  <tbody>\n",
       "    <tr>\n",
       "      <th>1228</th>\n",
       "      <td>2020-11-13</td>\n",
       "      <td>3552.570068</td>\n",
       "      <td>3593.659912</td>\n",
       "      <td>3552.570068</td>\n",
       "      <td>3585.149902</td>\n",
       "      <td>3585.149902</td>\n",
       "      <td>4709670000</td>\n",
       "      <td>3404.539099</td>\n",
       "      <td>3557.540039</td>\n",
       "      <td>-0.007701</td>\n",
       "      <td>0.021573</td>\n",
       "    </tr>\n",
       "    <tr>\n",
       "      <th>1229</th>\n",
       "      <td>2020-11-16</td>\n",
       "      <td>3600.159912</td>\n",
       "      <td>3628.510010</td>\n",
       "      <td>3600.159912</td>\n",
       "      <td>3626.909912</td>\n",
       "      <td>3626.909912</td>\n",
       "      <td>5281980000</td>\n",
       "      <td>3408.283090</td>\n",
       "      <td>NaN</td>\n",
       "      <td>-0.019126</td>\n",
       "      <td>0.021521</td>\n",
       "    </tr>\n",
       "    <tr>\n",
       "      <th>1230</th>\n",
       "      <td>2020-11-17</td>\n",
       "      <td>3610.310059</td>\n",
       "      <td>3623.110107</td>\n",
       "      <td>3588.679932</td>\n",
       "      <td>3609.530029</td>\n",
       "      <td>3609.530029</td>\n",
       "      <td>4799570000</td>\n",
       "      <td>3411.949433</td>\n",
       "      <td>NaN</td>\n",
       "      <td>-0.014404</td>\n",
       "      <td>0.018051</td>\n",
       "    </tr>\n",
       "    <tr>\n",
       "      <th>1231</th>\n",
       "      <td>2020-11-18</td>\n",
       "      <td>3612.090088</td>\n",
       "      <td>3619.090088</td>\n",
       "      <td>3567.330078</td>\n",
       "      <td>3567.790039</td>\n",
       "      <td>3567.790039</td>\n",
       "      <td>5274450000</td>\n",
       "      <td>3415.541313</td>\n",
       "      <td>NaN</td>\n",
       "      <td>-0.002873</td>\n",
       "      <td>-0.001363</td>\n",
       "    </tr>\n",
       "    <tr>\n",
       "      <th>1232</th>\n",
       "      <td>2020-11-19</td>\n",
       "      <td>3559.409912</td>\n",
       "      <td>3585.219971</td>\n",
       "      <td>3543.840088</td>\n",
       "      <td>3581.870117</td>\n",
       "      <td>3581.870117</td>\n",
       "      <td>4347200000</td>\n",
       "      <td>3419.088225</td>\n",
       "      <td>NaN</td>\n",
       "      <td>-0.006793</td>\n",
       "      <td>0.012683</td>\n",
       "    </tr>\n",
       "    <tr>\n",
       "      <th>1233</th>\n",
       "      <td>2020-11-20</td>\n",
       "      <td>3579.310059</td>\n",
       "      <td>3581.229980</td>\n",
       "      <td>3556.850098</td>\n",
       "      <td>3557.540039</td>\n",
       "      <td>3557.540039</td>\n",
       "      <td>4218970000</td>\n",
       "      <td>3422.543352</td>\n",
       "      <td>NaN</td>\n",
       "      <td>0.000000</td>\n",
       "      <td>-0.007701</td>\n",
       "    </tr>\n",
       "  </tbody>\n",
       "</table>\n",
       "</div>"
      ],
      "text/plain": [
       "           Date         Open         High          Low        Close  \\\n",
       "1228 2020-11-13  3552.570068  3593.659912  3552.570068  3585.149902   \n",
       "1229 2020-11-16  3600.159912  3628.510010  3600.159912  3626.909912   \n",
       "1230 2020-11-17  3610.310059  3623.110107  3588.679932  3609.530029   \n",
       "1231 2020-11-18  3612.090088  3619.090088  3567.330078  3567.790039   \n",
       "1232 2020-11-19  3559.409912  3585.219971  3543.840088  3581.870117   \n",
       "1233 2020-11-20  3579.310059  3581.229980  3556.850098  3557.540039   \n",
       "\n",
       "        Adj Close      Volume          SMA  5d_future_close  \\\n",
       "1228  3585.149902  4709670000  3404.539099      3557.540039   \n",
       "1229  3626.909912  5281980000  3408.283090              NaN   \n",
       "1230  3609.530029  4799570000  3411.949433              NaN   \n",
       "1231  3567.790039  5274450000  3415.541313              NaN   \n",
       "1232  3581.870117  4347200000  3419.088225              NaN   \n",
       "1233  3557.540039  4218970000  3422.543352              NaN   \n",
       "\n",
       "      5d_close_future_pct  5d_close_pct  \n",
       "1228            -0.007701      0.021573  \n",
       "1229            -0.019126      0.021521  \n",
       "1230            -0.014404      0.018051  \n",
       "1231            -0.002873     -0.001363  \n",
       "1232            -0.006793      0.012683  \n",
       "1233             0.000000     -0.007701  "
      ]
     },
     "execution_count": 11,
     "metadata": {},
     "output_type": "execute_result"
    }
   ],
   "source": [
    "data.tail(6)"
   ]
  },
  {
   "cell_type": "code",
   "execution_count": 12,
   "metadata": {},
   "outputs": [
    {
     "data": {
      "text/html": [
       "<div>\n",
       "<style scoped>\n",
       "    .dataframe tbody tr th:only-of-type {\n",
       "        vertical-align: middle;\n",
       "    }\n",
       "\n",
       "    .dataframe tbody tr th {\n",
       "        vertical-align: top;\n",
       "    }\n",
       "\n",
       "    .dataframe thead th {\n",
       "        text-align: right;\n",
       "    }\n",
       "</style>\n",
       "<table border=\"1\" class=\"dataframe\">\n",
       "  <thead>\n",
       "    <tr style=\"text-align: right;\">\n",
       "      <th></th>\n",
       "      <th>Date</th>\n",
       "      <th>Open</th>\n",
       "      <th>High</th>\n",
       "      <th>Low</th>\n",
       "      <th>Close</th>\n",
       "      <th>Adj Close</th>\n",
       "      <th>Volume</th>\n",
       "      <th>SMA</th>\n",
       "      <th>5d_future_close</th>\n",
       "      <th>5d_close_future_pct</th>\n",
       "      <th>5d_close_pct</th>\n",
       "    </tr>\n",
       "  </thead>\n",
       "  <tbody>\n",
       "    <tr>\n",
       "      <th>52</th>\n",
       "      <td>2016-03-16</td>\n",
       "      <td>2014.239990</td>\n",
       "      <td>2032.020020</td>\n",
       "      <td>2010.040039</td>\n",
       "      <td>2027.219971</td>\n",
       "      <td>2027.219971</td>\n",
       "      <td>4057020000</td>\n",
       "      <td>1909.725838</td>\n",
       "      <td>2036.709961</td>\n",
       "      <td>0.004681</td>\n",
       "      <td>0.019082</td>\n",
       "    </tr>\n",
       "    <tr>\n",
       "      <th>53</th>\n",
       "      <td>2016-03-17</td>\n",
       "      <td>2026.900024</td>\n",
       "      <td>2046.239990</td>\n",
       "      <td>2022.160034</td>\n",
       "      <td>2040.589966</td>\n",
       "      <td>2040.589966</td>\n",
       "      <td>4530480000</td>\n",
       "      <td>1911.830318</td>\n",
       "      <td>2035.939941</td>\n",
       "      <td>-0.002279</td>\n",
       "      <td>0.025644</td>\n",
       "    </tr>\n",
       "    <tr>\n",
       "      <th>54</th>\n",
       "      <td>2016-03-18</td>\n",
       "      <td>2041.160034</td>\n",
       "      <td>2052.360107</td>\n",
       "      <td>2041.160034</td>\n",
       "      <td>2049.580078</td>\n",
       "      <td>2049.580078</td>\n",
       "      <td>6503140000</td>\n",
       "      <td>1914.523006</td>\n",
       "      <td>2037.050049</td>\n",
       "      <td>-0.006113</td>\n",
       "      <td>0.013545</td>\n",
       "    </tr>\n",
       "    <tr>\n",
       "      <th>55</th>\n",
       "      <td>2016-03-21</td>\n",
       "      <td>2047.880005</td>\n",
       "      <td>2053.909912</td>\n",
       "      <td>2043.140015</td>\n",
       "      <td>2051.600098</td>\n",
       "      <td>2051.600098</td>\n",
       "      <td>3376600000</td>\n",
       "      <td>1917.733142</td>\n",
       "      <td>2055.010010</td>\n",
       "      <td>0.001662</td>\n",
       "      <td>0.015825</td>\n",
       "    </tr>\n",
       "    <tr>\n",
       "      <th>56</th>\n",
       "      <td>2016-03-22</td>\n",
       "      <td>2048.639893</td>\n",
       "      <td>2056.600098</td>\n",
       "      <td>2040.569946</td>\n",
       "      <td>2049.800049</td>\n",
       "      <td>2049.800049</td>\n",
       "      <td>3418460000</td>\n",
       "      <td>1921.299918</td>\n",
       "      <td>2063.949951</td>\n",
       "      <td>0.006903</td>\n",
       "      <td>0.016801</td>\n",
       "    </tr>\n",
       "  </tbody>\n",
       "</table>\n",
       "</div>"
      ],
      "text/plain": [
       "         Date         Open         High          Low        Close  \\\n",
       "52 2016-03-16  2014.239990  2032.020020  2010.040039  2027.219971   \n",
       "53 2016-03-17  2026.900024  2046.239990  2022.160034  2040.589966   \n",
       "54 2016-03-18  2041.160034  2052.360107  2041.160034  2049.580078   \n",
       "55 2016-03-21  2047.880005  2053.909912  2043.140015  2051.600098   \n",
       "56 2016-03-22  2048.639893  2056.600098  2040.569946  2049.800049   \n",
       "\n",
       "      Adj Close      Volume          SMA  5d_future_close  \\\n",
       "52  2027.219971  4057020000  1909.725838      2036.709961   \n",
       "53  2040.589966  4530480000  1911.830318      2035.939941   \n",
       "54  2049.580078  6503140000  1914.523006      2037.050049   \n",
       "55  2051.600098  3376600000  1917.733142      2055.010010   \n",
       "56  2049.800049  3418460000  1921.299918      2063.949951   \n",
       "\n",
       "    5d_close_future_pct  5d_close_pct  \n",
       "52             0.004681      0.019082  \n",
       "53            -0.002279      0.025644  \n",
       "54            -0.006113      0.013545  \n",
       "55             0.001662      0.015825  \n",
       "56             0.006903      0.016801  "
      ]
     },
     "execution_count": 12,
     "metadata": {},
     "output_type": "execute_result"
    }
   ],
   "source": [
    "clean_data = data[51:1228]\n",
    "#clean_data = data[(data.index>= '2016-03-14') & (data.index < '2020-11-16')]\n",
    "clean_data.head()\n"
   ]
  },
  {
   "cell_type": "code",
   "execution_count": 13,
   "metadata": {},
   "outputs": [
    {
     "data": {
      "text/plain": [
       "1177"
      ]
     },
     "execution_count": 13,
     "metadata": {},
     "output_type": "execute_result"
    }
   ],
   "source": [
    "len(clean_data)"
   ]
  },
  {
   "cell_type": "code",
   "execution_count": 14,
   "metadata": {},
   "outputs": [],
   "source": [
    "#reset index\n",
    "clean_data.reset_index(drop=True, inplace=True)"
   ]
  },
  {
   "cell_type": "code",
   "execution_count": 15,
   "metadata": {},
   "outputs": [
    {
     "data": {
      "text/html": [
       "<div>\n",
       "<style scoped>\n",
       "    .dataframe tbody tr th:only-of-type {\n",
       "        vertical-align: middle;\n",
       "    }\n",
       "\n",
       "    .dataframe tbody tr th {\n",
       "        vertical-align: top;\n",
       "    }\n",
       "\n",
       "    .dataframe thead th {\n",
       "        text-align: right;\n",
       "    }\n",
       "</style>\n",
       "<table border=\"1\" class=\"dataframe\">\n",
       "  <thead>\n",
       "    <tr style=\"text-align: right;\">\n",
       "      <th></th>\n",
       "      <th>Date</th>\n",
       "      <th>Open</th>\n",
       "      <th>High</th>\n",
       "      <th>Low</th>\n",
       "      <th>Close</th>\n",
       "      <th>Adj Close</th>\n",
       "      <th>Volume</th>\n",
       "      <th>SMA</th>\n",
       "      <th>5d_future_close</th>\n",
       "      <th>5d_close_future_pct</th>\n",
       "      <th>5d_close_pct</th>\n",
       "    </tr>\n",
       "  </thead>\n",
       "  <tbody>\n",
       "    <tr>\n",
       "      <th>0</th>\n",
       "      <td>2016-03-16</td>\n",
       "      <td>2014.239990</td>\n",
       "      <td>2032.020020</td>\n",
       "      <td>2010.040039</td>\n",
       "      <td>2027.219971</td>\n",
       "      <td>2027.219971</td>\n",
       "      <td>4057020000</td>\n",
       "      <td>1909.725838</td>\n",
       "      <td>2036.709961</td>\n",
       "      <td>0.004681</td>\n",
       "      <td>0.019082</td>\n",
       "    </tr>\n",
       "    <tr>\n",
       "      <th>1</th>\n",
       "      <td>2016-03-17</td>\n",
       "      <td>2026.900024</td>\n",
       "      <td>2046.239990</td>\n",
       "      <td>2022.160034</td>\n",
       "      <td>2040.589966</td>\n",
       "      <td>2040.589966</td>\n",
       "      <td>4530480000</td>\n",
       "      <td>1911.830318</td>\n",
       "      <td>2035.939941</td>\n",
       "      <td>-0.002279</td>\n",
       "      <td>0.025644</td>\n",
       "    </tr>\n",
       "    <tr>\n",
       "      <th>2</th>\n",
       "      <td>2016-03-18</td>\n",
       "      <td>2041.160034</td>\n",
       "      <td>2052.360107</td>\n",
       "      <td>2041.160034</td>\n",
       "      <td>2049.580078</td>\n",
       "      <td>2049.580078</td>\n",
       "      <td>6503140000</td>\n",
       "      <td>1914.523006</td>\n",
       "      <td>2037.050049</td>\n",
       "      <td>-0.006113</td>\n",
       "      <td>0.013545</td>\n",
       "    </tr>\n",
       "    <tr>\n",
       "      <th>3</th>\n",
       "      <td>2016-03-21</td>\n",
       "      <td>2047.880005</td>\n",
       "      <td>2053.909912</td>\n",
       "      <td>2043.140015</td>\n",
       "      <td>2051.600098</td>\n",
       "      <td>2051.600098</td>\n",
       "      <td>3376600000</td>\n",
       "      <td>1917.733142</td>\n",
       "      <td>2055.010010</td>\n",
       "      <td>0.001662</td>\n",
       "      <td>0.015825</td>\n",
       "    </tr>\n",
       "    <tr>\n",
       "      <th>4</th>\n",
       "      <td>2016-03-22</td>\n",
       "      <td>2048.639893</td>\n",
       "      <td>2056.600098</td>\n",
       "      <td>2040.569946</td>\n",
       "      <td>2049.800049</td>\n",
       "      <td>2049.800049</td>\n",
       "      <td>3418460000</td>\n",
       "      <td>1921.299918</td>\n",
       "      <td>2063.949951</td>\n",
       "      <td>0.006903</td>\n",
       "      <td>0.016801</td>\n",
       "    </tr>\n",
       "  </tbody>\n",
       "</table>\n",
       "</div>"
      ],
      "text/plain": [
       "        Date         Open         High          Low        Close    Adj Close  \\\n",
       "0 2016-03-16  2014.239990  2032.020020  2010.040039  2027.219971  2027.219971   \n",
       "1 2016-03-17  2026.900024  2046.239990  2022.160034  2040.589966  2040.589966   \n",
       "2 2016-03-18  2041.160034  2052.360107  2041.160034  2049.580078  2049.580078   \n",
       "3 2016-03-21  2047.880005  2053.909912  2043.140015  2051.600098  2051.600098   \n",
       "4 2016-03-22  2048.639893  2056.600098  2040.569946  2049.800049  2049.800049   \n",
       "\n",
       "       Volume          SMA  5d_future_close  5d_close_future_pct  5d_close_pct  \n",
       "0  4057020000  1909.725838      2036.709961             0.004681      0.019082  \n",
       "1  4530480000  1911.830318      2035.939941            -0.002279      0.025644  \n",
       "2  6503140000  1914.523006      2037.050049            -0.006113      0.013545  \n",
       "3  3376600000  1917.733142      2055.010010             0.001662      0.015825  \n",
       "4  3418460000  1921.299918      2063.949951             0.006903      0.016801  "
      ]
     },
     "execution_count": 15,
     "metadata": {},
     "output_type": "execute_result"
    }
   ],
   "source": [
    "clean_data.head()"
   ]
  },
  {
   "cell_type": "code",
   "execution_count": 16,
   "metadata": {},
   "outputs": [
    {
     "data": {
      "text/plain": [
       "Date                   0\n",
       "Open                   0\n",
       "High                   0\n",
       "Low                    0\n",
       "Close                  0\n",
       "Adj Close              0\n",
       "Volume                 0\n",
       "SMA                    0\n",
       "5d_future_close        0\n",
       "5d_close_future_pct    0\n",
       "5d_close_pct           0\n",
       "dtype: int64"
      ]
     },
     "execution_count": 16,
     "metadata": {},
     "output_type": "execute_result"
    }
   ],
   "source": [
    "# checking that no NaN values\n",
    "clean_data.isnull().sum()"
   ]
  },
  {
   "cell_type": "code",
   "execution_count": 17,
   "metadata": {},
   "outputs": [
    {
     "data": {
      "text/plain": [
       "<matplotlib.axes._subplots.AxesSubplot at 0x124914e50>"
      ]
     },
     "execution_count": 17,
     "metadata": {},
     "output_type": "execute_result"
    },
    {
     "data": {
      "image/png": "[encoded data removed]",
      "text/plain": [
       "<Figure size 720x432 with 1 Axes>"
      ]
     },
     "metadata": {
      "needs_background": "light"
     },
     "output_type": "display_data"
    }
   ],
   "source": [
    "# Plotting graph of actual closing price vs SMA for 50 days\n",
    "\n",
    "clean_data[['Close', 'SMA']].plot(title='Actual Closing vs SMA',figsize=(10,6))"
   ]
  },
  {
   "cell_type": "code",
   "execution_count": 18,
   "metadata": {},
   "outputs": [
    {
     "data": {
      "text/html": [
       "<div>\n",
       "<style scoped>\n",
       "    .dataframe tbody tr th:only-of-type {\n",
       "        vertical-align: middle;\n",
       "    }\n",
       "\n",
       "    .dataframe tbody tr th {\n",
       "        vertical-align: top;\n",
       "    }\n",
       "\n",
       "    .dataframe thead th {\n",
       "        text-align: right;\n",
       "    }\n",
       "</style>\n",
       "<table border=\"1\" class=\"dataframe\">\n",
       "  <thead>\n",
       "    <tr style=\"text-align: right;\">\n",
       "      <th></th>\n",
       "      <th>Date</th>\n",
       "      <th>Open</th>\n",
       "      <th>High</th>\n",
       "      <th>Low</th>\n",
       "      <th>Close</th>\n",
       "      <th>Adj Close</th>\n",
       "      <th>Volume</th>\n",
       "      <th>SMA</th>\n",
       "      <th>5d_future_close</th>\n",
       "      <th>5d_close_future_pct</th>\n",
       "      <th>5d_close_pct</th>\n",
       "    </tr>\n",
       "  </thead>\n",
       "  <tbody>\n",
       "    <tr>\n",
       "      <th>1172</th>\n",
       "      <td>2020-11-09</td>\n",
       "      <td>3583.040039</td>\n",
       "      <td>3645.989990</td>\n",
       "      <td>3547.479980</td>\n",
       "      <td>3550.500000</td>\n",
       "      <td>3550.500000</td>\n",
       "      <td>8556610000</td>\n",
       "      <td>3391.778630</td>\n",
       "      <td>3626.909912</td>\n",
       "      <td>0.021521</td>\n",
       "      <td>0.072581</td>\n",
       "    </tr>\n",
       "    <tr>\n",
       "      <th>1173</th>\n",
       "      <td>2020-11-10</td>\n",
       "      <td>3543.260010</td>\n",
       "      <td>3557.219971</td>\n",
       "      <td>3511.909912</td>\n",
       "      <td>3545.530029</td>\n",
       "      <td>3545.530029</td>\n",
       "      <td>6024230000</td>\n",
       "      <td>3394.362277</td>\n",
       "      <td>3609.530029</td>\n",
       "      <td>0.018051</td>\n",
       "      <td>0.052348</td>\n",
       "    </tr>\n",
       "    <tr>\n",
       "      <th>1174</th>\n",
       "      <td>2020-11-11</td>\n",
       "      <td>3563.219971</td>\n",
       "      <td>3581.159912</td>\n",
       "      <td>3557.000000</td>\n",
       "      <td>3572.659912</td>\n",
       "      <td>3572.659912</td>\n",
       "      <td>4609970000</td>\n",
       "      <td>3397.413389</td>\n",
       "      <td>3567.790039</td>\n",
       "      <td>-0.001363</td>\n",
       "      <td>0.037526</td>\n",
       "    </tr>\n",
       "    <tr>\n",
       "      <th>1175</th>\n",
       "      <td>2020-11-12</td>\n",
       "      <td>3562.669922</td>\n",
       "      <td>3569.020020</td>\n",
       "      <td>3518.580078</td>\n",
       "      <td>3537.010010</td>\n",
       "      <td>3537.010010</td>\n",
       "      <td>4890120000</td>\n",
       "      <td>3400.852196</td>\n",
       "      <td>3581.870117</td>\n",
       "      <td>0.012683</td>\n",
       "      <td>0.007566</td>\n",
       "    </tr>\n",
       "    <tr>\n",
       "      <th>1176</th>\n",
       "      <td>2020-11-13</td>\n",
       "      <td>3552.570068</td>\n",
       "      <td>3593.659912</td>\n",
       "      <td>3552.570068</td>\n",
       "      <td>3585.149902</td>\n",
       "      <td>3585.149902</td>\n",
       "      <td>4709670000</td>\n",
       "      <td>3404.539099</td>\n",
       "      <td>3557.540039</td>\n",
       "      <td>-0.007701</td>\n",
       "      <td>0.021573</td>\n",
       "    </tr>\n",
       "  </tbody>\n",
       "</table>\n",
       "</div>"
      ],
      "text/plain": [
       "           Date         Open         High          Low        Close  \\\n",
       "1172 2020-11-09  3583.040039  3645.989990  3547.479980  3550.500000   \n",
       "1173 2020-11-10  3543.260010  3557.219971  3511.909912  3545.530029   \n",
       "1174 2020-11-11  3563.219971  3581.159912  3557.000000  3572.659912   \n",
       "1175 2020-11-12  3562.669922  3569.020020  3518.580078  3537.010010   \n",
       "1176 2020-11-13  3552.570068  3593.659912  3552.570068  3585.149902   \n",
       "\n",
       "        Adj Close      Volume          SMA  5d_future_close  \\\n",
       "1172  3550.500000  8556610000  3391.778630      3626.909912   \n",
       "1173  3545.530029  6024230000  3394.362277      3609.530029   \n",
       "1174  3572.659912  4609970000  3397.413389      3567.790039   \n",
       "1175  3537.010010  4890120000  3400.852196      3581.870117   \n",
       "1176  3585.149902  4709670000  3404.539099      3557.540039   \n",
       "\n",
       "      5d_close_future_pct  5d_close_pct  \n",
       "1172             0.021521      0.072581  \n",
       "1173             0.018051      0.052348  \n",
       "1174            -0.001363      0.037526  \n",
       "1175             0.012683      0.007566  \n",
       "1176            -0.007701      0.021573  "
      ]
     },
     "execution_count": 18,
     "metadata": {},
     "output_type": "execute_result"
    }
   ],
   "source": [
    "clean_data.tail()"
   ]
  },
  {
   "cell_type": "markdown",
   "metadata": {},
   "source": [
    "# Splitting into train-test"
   ]
  },
  {
   "cell_type": "code",
   "execution_count": 19,
   "metadata": {},
   "outputs": [
    {
     "data": {
      "text/html": [
       "<div>\n",
       "<style scoped>\n",
       "    .dataframe tbody tr th:only-of-type {\n",
       "        vertical-align: middle;\n",
       "    }\n",
       "\n",
       "    .dataframe tbody tr th {\n",
       "        vertical-align: top;\n",
       "    }\n",
       "\n",
       "    .dataframe thead th {\n",
       "        text-align: right;\n",
       "    }\n",
       "</style>\n",
       "<table border=\"1\" class=\"dataframe\">\n",
       "  <thead>\n",
       "    <tr style=\"text-align: right;\">\n",
       "      <th></th>\n",
       "      <th>Date</th>\n",
       "      <th>Open</th>\n",
       "      <th>High</th>\n",
       "      <th>Low</th>\n",
       "      <th>Close</th>\n",
       "      <th>Adj Close</th>\n",
       "      <th>Volume</th>\n",
       "      <th>SMA</th>\n",
       "      <th>5d_future_close</th>\n",
       "      <th>5d_close_future_pct</th>\n",
       "      <th>5d_close_pct</th>\n",
       "    </tr>\n",
       "  </thead>\n",
       "  <tbody>\n",
       "    <tr>\n",
       "      <th>0</th>\n",
       "      <td>2016-03-16</td>\n",
       "      <td>2014.239990</td>\n",
       "      <td>2032.020020</td>\n",
       "      <td>2010.040039</td>\n",
       "      <td>2027.219971</td>\n",
       "      <td>2027.219971</td>\n",
       "      <td>4057020000</td>\n",
       "      <td>1909.725838</td>\n",
       "      <td>2036.709961</td>\n",
       "      <td>0.004681</td>\n",
       "      <td>0.019082</td>\n",
       "    </tr>\n",
       "    <tr>\n",
       "      <th>1</th>\n",
       "      <td>2016-03-17</td>\n",
       "      <td>2026.900024</td>\n",
       "      <td>2046.239990</td>\n",
       "      <td>2022.160034</td>\n",
       "      <td>2040.589966</td>\n",
       "      <td>2040.589966</td>\n",
       "      <td>4530480000</td>\n",
       "      <td>1911.830318</td>\n",
       "      <td>2035.939941</td>\n",
       "      <td>-0.002279</td>\n",
       "      <td>0.025644</td>\n",
       "    </tr>\n",
       "    <tr>\n",
       "      <th>2</th>\n",
       "      <td>2016-03-18</td>\n",
       "      <td>2041.160034</td>\n",
       "      <td>2052.360107</td>\n",
       "      <td>2041.160034</td>\n",
       "      <td>2049.580078</td>\n",
       "      <td>2049.580078</td>\n",
       "      <td>6503140000</td>\n",
       "      <td>1914.523006</td>\n",
       "      <td>2037.050049</td>\n",
       "      <td>-0.006113</td>\n",
       "      <td>0.013545</td>\n",
       "    </tr>\n",
       "    <tr>\n",
       "      <th>3</th>\n",
       "      <td>2016-03-21</td>\n",
       "      <td>2047.880005</td>\n",
       "      <td>2053.909912</td>\n",
       "      <td>2043.140015</td>\n",
       "      <td>2051.600098</td>\n",
       "      <td>2051.600098</td>\n",
       "      <td>3376600000</td>\n",
       "      <td>1917.733142</td>\n",
       "      <td>2055.010010</td>\n",
       "      <td>0.001662</td>\n",
       "      <td>0.015825</td>\n",
       "    </tr>\n",
       "    <tr>\n",
       "      <th>4</th>\n",
       "      <td>2016-03-22</td>\n",
       "      <td>2048.639893</td>\n",
       "      <td>2056.600098</td>\n",
       "      <td>2040.569946</td>\n",
       "      <td>2049.800049</td>\n",
       "      <td>2049.800049</td>\n",
       "      <td>3418460000</td>\n",
       "      <td>1921.299918</td>\n",
       "      <td>2063.949951</td>\n",
       "      <td>0.006903</td>\n",
       "      <td>0.016801</td>\n",
       "    </tr>\n",
       "    <tr>\n",
       "      <th>5</th>\n",
       "      <td>2016-03-23</td>\n",
       "      <td>2048.550049</td>\n",
       "      <td>2048.550049</td>\n",
       "      <td>2034.859985</td>\n",
       "      <td>2036.709961</td>\n",
       "      <td>2036.709961</td>\n",
       "      <td>3639510000</td>\n",
       "      <td>1925.096623</td>\n",
       "      <td>2059.739990</td>\n",
       "      <td>0.011307</td>\n",
       "      <td>0.004681</td>\n",
       "    </tr>\n",
       "  </tbody>\n",
       "</table>\n",
       "</div>"
      ],
      "text/plain": [
       "        Date         Open         High          Low        Close    Adj Close  \\\n",
       "0 2016-03-16  2014.239990  2032.020020  2010.040039  2027.219971  2027.219971   \n",
       "1 2016-03-17  2026.900024  2046.239990  2022.160034  2040.589966  2040.589966   \n",
       "2 2016-03-18  2041.160034  2052.360107  2041.160034  2049.580078  2049.580078   \n",
       "3 2016-03-21  2047.880005  2053.909912  2043.140015  2051.600098  2051.600098   \n",
       "4 2016-03-22  2048.639893  2056.600098  2040.569946  2049.800049  2049.800049   \n",
       "5 2016-03-23  2048.550049  2048.550049  2034.859985  2036.709961  2036.709961   \n",
       "\n",
       "       Volume          SMA  5d_future_close  5d_close_future_pct  5d_close_pct  \n",
       "0  4057020000  1909.725838      2036.709961             0.004681      0.019082  \n",
       "1  4530480000  1911.830318      2035.939941            -0.002279      0.025644  \n",
       "2  6503140000  1914.523006      2037.050049            -0.006113      0.013545  \n",
       "3  3376600000  1917.733142      2055.010010             0.001662      0.015825  \n",
       "4  3418460000  1921.299918      2063.949951             0.006903      0.016801  \n",
       "5  3639510000  1925.096623      2059.739990             0.011307      0.004681  "
      ]
     },
     "execution_count": 19,
     "metadata": {},
     "output_type": "execute_result"
    }
   ],
   "source": [
    "train = clean_data[:900]\n",
    "test = clean_data[900:]\n",
    "train.head(6)"
   ]
  },
  {
   "cell_type": "code",
   "execution_count": 20,
   "metadata": {},
   "outputs": [
    {
     "data": {
      "text/plain": [
       "(277, 11)"
      ]
     },
     "execution_count": 20,
     "metadata": {},
     "output_type": "execute_result"
    }
   ],
   "source": [
    "test.shape"
   ]
  },
  {
   "cell_type": "code",
   "execution_count": 21,
   "metadata": {},
   "outputs": [],
   "source": [
    "x_train = train.drop(['Close','Date'], axis=1)\n",
    "y_train = train['Close']\n",
    "x_test = test.drop(['Close','Date'], axis=1)\n",
    "y_test = test['Close']"
   ]
  },
  {
   "cell_type": "code",
   "execution_count": 22,
   "metadata": {},
   "outputs": [
    {
     "data": {
      "text/html": [
       "<div>\n",
       "<style scoped>\n",
       "    .dataframe tbody tr th:only-of-type {\n",
       "        vertical-align: middle;\n",
       "    }\n",
       "\n",
       "    .dataframe tbody tr th {\n",
       "        vertical-align: top;\n",
       "    }\n",
       "\n",
       "    .dataframe thead th {\n",
       "        text-align: right;\n",
       "    }\n",
       "</style>\n",
       "<table border=\"1\" class=\"dataframe\">\n",
       "  <thead>\n",
       "    <tr style=\"text-align: right;\">\n",
       "      <th></th>\n",
       "      <th>Open</th>\n",
       "      <th>High</th>\n",
       "      <th>Low</th>\n",
       "      <th>Adj Close</th>\n",
       "      <th>Volume</th>\n",
       "      <th>SMA</th>\n",
       "      <th>5d_future_close</th>\n",
       "      <th>5d_close_future_pct</th>\n",
       "      <th>5d_close_pct</th>\n",
       "    </tr>\n",
       "  </thead>\n",
       "  <tbody>\n",
       "    <tr>\n",
       "      <th>0</th>\n",
       "      <td>2014.239990</td>\n",
       "      <td>2032.020020</td>\n",
       "      <td>2010.040039</td>\n",
       "      <td>2027.219971</td>\n",
       "      <td>4057020000</td>\n",
       "      <td>1909.725838</td>\n",
       "      <td>2036.709961</td>\n",
       "      <td>0.004681</td>\n",
       "      <td>0.019082</td>\n",
       "    </tr>\n",
       "    <tr>\n",
       "      <th>1</th>\n",
       "      <td>2026.900024</td>\n",
       "      <td>2046.239990</td>\n",
       "      <td>2022.160034</td>\n",
       "      <td>2040.589966</td>\n",
       "      <td>4530480000</td>\n",
       "      <td>1911.830318</td>\n",
       "      <td>2035.939941</td>\n",
       "      <td>-0.002279</td>\n",
       "      <td>0.025644</td>\n",
       "    </tr>\n",
       "    <tr>\n",
       "      <th>2</th>\n",
       "      <td>2041.160034</td>\n",
       "      <td>2052.360107</td>\n",
       "      <td>2041.160034</td>\n",
       "      <td>2049.580078</td>\n",
       "      <td>6503140000</td>\n",
       "      <td>1914.523006</td>\n",
       "      <td>2037.050049</td>\n",
       "      <td>-0.006113</td>\n",
       "      <td>0.013545</td>\n",
       "    </tr>\n",
       "    <tr>\n",
       "      <th>3</th>\n",
       "      <td>2047.880005</td>\n",
       "      <td>2053.909912</td>\n",
       "      <td>2043.140015</td>\n",
       "      <td>2051.600098</td>\n",
       "      <td>3376600000</td>\n",
       "      <td>1917.733142</td>\n",
       "      <td>2055.010010</td>\n",
       "      <td>0.001662</td>\n",
       "      <td>0.015825</td>\n",
       "    </tr>\n",
       "    <tr>\n",
       "      <th>4</th>\n",
       "      <td>2048.639893</td>\n",
       "      <td>2056.600098</td>\n",
       "      <td>2040.569946</td>\n",
       "      <td>2049.800049</td>\n",
       "      <td>3418460000</td>\n",
       "      <td>1921.299918</td>\n",
       "      <td>2063.949951</td>\n",
       "      <td>0.006903</td>\n",
       "      <td>0.016801</td>\n",
       "    </tr>\n",
       "  </tbody>\n",
       "</table>\n",
       "</div>"
      ],
      "text/plain": [
       "          Open         High          Low    Adj Close      Volume  \\\n",
       "0  2014.239990  2032.020020  2010.040039  2027.219971  4057020000   \n",
       "1  2026.900024  2046.239990  2022.160034  2040.589966  4530480000   \n",
       "2  2041.160034  2052.360107  2041.160034  2049.580078  6503140000   \n",
       "3  2047.880005  2053.909912  2043.140015  2051.600098  3376600000   \n",
       "4  2048.639893  2056.600098  2040.569946  2049.800049  3418460000   \n",
       "\n",
       "           SMA  5d_future_close  5d_close_future_pct  5d_close_pct  \n",
       "0  1909.725838      2036.709961             0.004681      0.019082  \n",
       "1  1911.830318      2035.939941            -0.002279      0.025644  \n",
       "2  1914.523006      2037.050049            -0.006113      0.013545  \n",
       "3  1917.733142      2055.010010             0.001662      0.015825  \n",
       "4  1921.299918      2063.949951             0.006903      0.016801  "
      ]
     },
     "execution_count": 22,
     "metadata": {},
     "output_type": "execute_result"
    }
   ],
   "source": [
    "x_train.head()\n"
   ]
  },
  {
   "cell_type": "code",
   "execution_count": 23,
   "metadata": {},
   "outputs": [
    {
     "data": {
      "text/plain": [
       "0    2027.219971\n",
       "1    2040.589966\n",
       "2    2049.580078\n",
       "3    2051.600098\n",
       "4    2049.800049\n",
       "Name: Close, dtype: float64"
      ]
     },
     "execution_count": 23,
     "metadata": {},
     "output_type": "execute_result"
    }
   ],
   "source": [
    "y_train.head()"
   ]
  },
  {
   "cell_type": "code",
   "execution_count": 24,
   "metadata": {},
   "outputs": [
    {
     "data": {
      "text/plain": [
       "900    2970.270020\n",
       "901    2966.149902\n",
       "902    2995.679932\n",
       "903    2989.689941\n",
       "904    2997.949951\n",
       "Name: Close, dtype: float64"
      ]
     },
     "execution_count": 24,
     "metadata": {},
     "output_type": "execute_result"
    }
   ],
   "source": [
    "y_test.head()"
   ]
  },
  {
   "cell_type": "code",
   "execution_count": 25,
   "metadata": {},
   "outputs": [
    {
     "data": {
      "text/html": [
       "<div>\n",
       "<style scoped>\n",
       "    .dataframe tbody tr th:only-of-type {\n",
       "        vertical-align: middle;\n",
       "    }\n",
       "\n",
       "    .dataframe tbody tr th {\n",
       "        vertical-align: top;\n",
       "    }\n",
       "\n",
       "    .dataframe thead th {\n",
       "        text-align: right;\n",
       "    }\n",
       "</style>\n",
       "<table border=\"1\" class=\"dataframe\">\n",
       "  <thead>\n",
       "    <tr style=\"text-align: right;\">\n",
       "      <th></th>\n",
       "      <th>Open</th>\n",
       "      <th>High</th>\n",
       "      <th>Low</th>\n",
       "      <th>Adj Close</th>\n",
       "      <th>Volume</th>\n",
       "      <th>SMA</th>\n",
       "      <th>5d_future_close</th>\n",
       "      <th>5d_close_future_pct</th>\n",
       "      <th>5d_close_pct</th>\n",
       "    </tr>\n",
       "  </thead>\n",
       "  <tbody>\n",
       "    <tr>\n",
       "      <th>900</th>\n",
       "      <td>2963.070068</td>\n",
       "      <td>2993.280029</td>\n",
       "      <td>2963.070068</td>\n",
       "      <td>2970.270020</td>\n",
       "      <td>3580460000</td>\n",
       "      <td>2947.657703</td>\n",
       "      <td>2986.199951</td>\n",
       "      <td>0.005363</td>\n",
       "      <td>0.006186</td>\n",
       "    </tr>\n",
       "    <tr>\n",
       "      <th>901</th>\n",
       "      <td>2965.810059</td>\n",
       "      <td>2972.840088</td>\n",
       "      <td>2962.939941</td>\n",
       "      <td>2966.149902</td>\n",
       "      <td>2557020000</td>\n",
       "      <td>2950.179416</td>\n",
       "      <td>3006.719971</td>\n",
       "      <td>0.013678</td>\n",
       "      <td>0.009310</td>\n",
       "    </tr>\n",
       "    <tr>\n",
       "      <th>902</th>\n",
       "      <td>2973.610107</td>\n",
       "      <td>3003.280029</td>\n",
       "      <td>2973.610107</td>\n",
       "      <td>2995.679932</td>\n",
       "      <td>3340740000</td>\n",
       "      <td>2952.559512</td>\n",
       "      <td>2995.989990</td>\n",
       "      <td>0.000104</td>\n",
       "      <td>0.035471</td>\n",
       "    </tr>\n",
       "    <tr>\n",
       "      <th>903</th>\n",
       "      <td>2989.679932</td>\n",
       "      <td>2997.540039</td>\n",
       "      <td>2985.199951</td>\n",
       "      <td>2989.689941</td>\n",
       "      <td>3222570000</td>\n",
       "      <td>2954.740601</td>\n",
       "      <td>3004.520020</td>\n",
       "      <td>0.004960</td>\n",
       "      <td>0.024077</td>\n",
       "    </tr>\n",
       "    <tr>\n",
       "      <th>904</th>\n",
       "      <td>3000.770020</td>\n",
       "      <td>3008.290039</td>\n",
       "      <td>2991.790039</td>\n",
       "      <td>2997.949951</td>\n",
       "      <td>3115960000</td>\n",
       "      <td>2956.707601</td>\n",
       "      <td>3010.290039</td>\n",
       "      <td>0.004116</td>\n",
       "      <td>0.020360</td>\n",
       "    </tr>\n",
       "  </tbody>\n",
       "</table>\n",
       "</div>"
      ],
      "text/plain": [
       "            Open         High          Low    Adj Close      Volume  \\\n",
       "900  2963.070068  2993.280029  2963.070068  2970.270020  3580460000   \n",
       "901  2965.810059  2972.840088  2962.939941  2966.149902  2557020000   \n",
       "902  2973.610107  3003.280029  2973.610107  2995.679932  3340740000   \n",
       "903  2989.679932  2997.540039  2985.199951  2989.689941  3222570000   \n",
       "904  3000.770020  3008.290039  2991.790039  2997.949951  3115960000   \n",
       "\n",
       "             SMA  5d_future_close  5d_close_future_pct  5d_close_pct  \n",
       "900  2947.657703      2986.199951             0.005363      0.006186  \n",
       "901  2950.179416      3006.719971             0.013678      0.009310  \n",
       "902  2952.559512      2995.989990             0.000104      0.035471  \n",
       "903  2954.740601      3004.520020             0.004960      0.024077  \n",
       "904  2956.707601      3010.290039             0.004116      0.020360  "
      ]
     },
     "execution_count": 25,
     "metadata": {},
     "output_type": "execute_result"
    }
   ],
   "source": [
    "x_test.head()"
   ]
  },
  {
   "cell_type": "markdown",
   "metadata": {},
   "source": [
    "# Linear Regression"
   ]
  },
  {
   "cell_type": "code",
   "execution_count": 26,
   "metadata": {},
   "outputs": [
    {
     "data": {
      "text/plain": [
       "LinearRegression()"
      ]
     },
     "execution_count": 26,
     "metadata": {},
     "output_type": "execute_result"
    }
   ],
   "source": [
    "# implement linear regression\n",
    "from sklearn.linear_model import LinearRegression\n",
    "model = LinearRegression()\n",
    "model.fit(x_train,y_train)"
   ]
  },
  {
   "cell_type": "code",
   "execution_count": 27,
   "metadata": {},
   "outputs": [
    {
     "data": {
      "text/plain": [
       "8.579001926564643e-09"
      ]
     },
     "execution_count": 27,
     "metadata": {},
     "output_type": "execute_result"
    }
   ],
   "source": [
    "import numpy as np\n",
    "#make predictions and find the rmse\n",
    "preds = model.predict(x_test)\n",
    "rms=np.sqrt(np.mean(np.power((np.array(y_test)-np.array(preds)),2)))\n",
    "rms"
   ]
  },
  {
   "cell_type": "code",
   "execution_count": 28,
   "metadata": {},
   "outputs": [
    {
     "data": {
      "text/plain": [
       "count     277.000000\n",
       "mean     3143.288515\n",
       "std       259.787242\n",
       "min      2237.399902\n",
       "25%      3009.050049\n",
       "50%      3190.139893\n",
       "75%      3334.689941\n",
       "max      3585.149902\n",
       "dtype: float64"
      ]
     },
     "execution_count": 28,
     "metadata": {},
     "output_type": "execute_result"
    }
   ],
   "source": [
    "df = pd.Series(preds)\n",
    "df.describe()"
   ]
  },
  {
   "cell_type": "code",
   "execution_count": 29,
   "metadata": {},
   "outputs": [
    {
     "name": "stderr",
     "output_type": "stream",
     "text": [
      "<ipython-input-29-8934fbeae8d5>:2: SettingWithCopyWarning: \n",
      "A value is trying to be set on a copy of a slice from a DataFrame.\n",
      "Try using .loc[row_indexer,col_indexer] = value instead\n",
      "\n",
      "See the caveats in the documentation: https://pandas.pydata.org/pandas-docs/stable/user_guide/indexing.html#returning-a-view-versus-a-copy\n",
      "  test['Predictions'] = 0\n",
      "<ipython-input-29-8934fbeae8d5>:3: SettingWithCopyWarning: \n",
      "A value is trying to be set on a copy of a slice from a DataFrame.\n",
      "Try using .loc[row_indexer,col_indexer] = value instead\n",
      "\n",
      "See the caveats in the documentation: https://pandas.pydata.org/pandas-docs/stable/user_guide/indexing.html#returning-a-view-versus-a-copy\n",
      "  test['Predictions'] = preds\n"
     ]
    },
    {
     "data": {
      "text/plain": [
       "[<matplotlib.lines.Line2D at 0x12709a340>,\n",
       " <matplotlib.lines.Line2D at 0x12709a460>]"
      ]
     },
     "execution_count": 29,
     "metadata": {},
     "output_type": "execute_result"
    },
    {
     "data": {
      "image/png": "[encoded data removed]",
      "text/plain": [
       "<Figure size 432x288 with 1 Axes>"
      ]
     },
     "metadata": {
      "needs_background": "light"
     },
     "output_type": "display_data"
    }
   ],
   "source": [
    "#plot\n",
    "test['Predictions'] = 0\n",
    "test['Predictions'] = preds\n",
    "\n",
    "test.index = clean_data[900:].index\n",
    "train.index = clean_data[:900].index\n",
    "\n",
    "plt.plot(train['Close'])\n",
    "plt.plot(test[['Close', 'Predictions']])\n",
    "\n"
   ]
  },
  {
   "cell_type": "code",
   "execution_count": 30,
   "metadata": {},
   "outputs": [
    {
     "data": {
      "text/plain": [
       "array([2970.27002 , 2966.149902, 2995.679932, 2989.689941, 2997.949951,\n",
       "       2986.199951, 3006.719971, 2995.98999 , 3004.52002 , 3010.290039])"
      ]
     },
     "execution_count": 30,
     "metadata": {},
     "output_type": "execute_result"
    }
   ],
   "source": [
    "preds[:10]"
   ]
  },
  {
   "cell_type": "markdown",
   "metadata": {},
   "source": [
    "# LSTM\n"
   ]
  },
  {
   "cell_type": "code",
   "execution_count": 31,
   "metadata": {},
   "outputs": [
    {
     "name": "stdout",
     "output_type": "stream",
     "text": [
      "Requirement already satisfied: keras in /opt/anaconda3/lib/python3.8/site-packages (2.4.3)\n",
      "Requirement already satisfied: scipy>=0.14 in /opt/anaconda3/lib/python3.8/site-packages (from keras) (1.4.1)\n",
      "Requirement already satisfied: h5py in /opt/anaconda3/lib/python3.8/site-packages (from keras) (2.10.0)\n",
      "Requirement already satisfied: pyyaml in /opt/anaconda3/lib/python3.8/site-packages (from keras) (5.3.1)\n",
      "Requirement already satisfied: numpy>=1.9.1 in /opt/anaconda3/lib/python3.8/site-packages (from keras) (1.18.5)\n",
      "Requirement already satisfied: six in /opt/anaconda3/lib/python3.8/site-packages (from h5py->keras) (1.15.0)\n",
      "Requirement already satisfied: tensorflow in /opt/anaconda3/lib/python3.8/site-packages (2.3.0)\n",
      "Requirement already satisfied: tensorboard<3,>=2.3.0 in /opt/anaconda3/lib/python3.8/site-packages (from tensorflow) (2.4.0)\n",
      "Requirement already satisfied: protobuf>=3.9.2 in /opt/anaconda3/lib/python3.8/site-packages (from tensorflow) (3.14.0)\n",
      "Requirement already satisfied: wheel>=0.26 in /opt/anaconda3/lib/python3.8/site-packages (from tensorflow) (0.34.2)\n",
      "Requirement already satisfied: absl-py>=0.7.0 in /opt/anaconda3/lib/python3.8/site-packages (from tensorflow) (0.11.0)\n",
      "Requirement already satisfied: keras-preprocessing<1.2,>=1.1.1 in /opt/anaconda3/lib/python3.8/site-packages (from tensorflow) (1.1.2)\n",
      "Requirement already satisfied: scipy==1.4.1 in /opt/anaconda3/lib/python3.8/site-packages (from tensorflow) (1.4.1)\n",
      "Requirement already satisfied: six>=1.12.0 in /opt/anaconda3/lib/python3.8/site-packages (from tensorflow) (1.15.0)\n",
      "Requirement already satisfied: grpcio>=1.8.6 in /opt/anaconda3/lib/python3.8/site-packages (from tensorflow) (1.34.0)\n",
      "Requirement already satisfied: google-pasta>=0.1.8 in /opt/anaconda3/lib/python3.8/site-packages (from tensorflow) (0.2.0)\n",
      "Requirement already satisfied: tensorflow-estimator<2.4.0,>=2.3.0 in /opt/anaconda3/lib/python3.8/site-packages (from tensorflow) (2.3.0)\n",
      "Requirement already satisfied: wrapt>=1.11.1 in /opt/anaconda3/lib/python3.8/site-packages (from tensorflow) (1.11.2)\n",
      "Requirement already satisfied: opt-einsum>=2.3.2 in /opt/anaconda3/lib/python3.8/site-packages (from tensorflow) (3.3.0)\n",
      "Requirement already satisfied: gast==0.3.3 in /opt/anaconda3/lib/python3.8/site-packages (from tensorflow) (0.3.3)\n",
      "Requirement already satisfied: h5py<2.11.0,>=2.10.0 in /opt/anaconda3/lib/python3.8/site-packages (from tensorflow) (2.10.0)\n",
      "Requirement already satisfied: numpy<1.19.0,>=1.16.0 in /opt/anaconda3/lib/python3.8/site-packages (from tensorflow) (1.18.5)\n",
      "Requirement already satisfied: termcolor>=1.1.0 in /opt/anaconda3/lib/python3.8/site-packages (from tensorflow) (1.1.0)\n",
      "Requirement already satisfied: astunparse==1.6.3 in /opt/anaconda3/lib/python3.8/site-packages (from tensorflow) (1.6.3)\n",
      "Requirement already satisfied: setuptools>=41.0.0 in /opt/anaconda3/lib/python3.8/site-packages (from tensorboard<3,>=2.3.0->tensorflow) (49.2.0.post20200714)\n",
      "Requirement already satisfied: google-auth<2,>=1.6.3 in /opt/anaconda3/lib/python3.8/site-packages (from tensorboard<3,>=2.3.0->tensorflow) (1.24.0)\n",
      "Requirement already satisfied: markdown>=2.6.8 in /opt/anaconda3/lib/python3.8/site-packages (from tensorboard<3,>=2.3.0->tensorflow) (3.3.3)\n",
      "Requirement already satisfied: tensorboard-plugin-wit>=1.6.0 in /opt/anaconda3/lib/python3.8/site-packages (from tensorboard<3,>=2.3.0->tensorflow) (1.7.0)\n",
      "Requirement already satisfied: werkzeug>=0.11.15 in /opt/anaconda3/lib/python3.8/site-packages (from tensorboard<3,>=2.3.0->tensorflow) (1.0.1)\n",
      "Requirement already satisfied: requests<3,>=2.21.0 in /opt/anaconda3/lib/python3.8/site-packages (from tensorboard<3,>=2.3.0->tensorflow) (2.24.0)\n",
      "Requirement already satisfied: google-auth-oauthlib<0.5,>=0.4.1 in /opt/anaconda3/lib/python3.8/site-packages (from tensorboard<3,>=2.3.0->tensorflow) (0.4.2)\n",
      "Requirement already satisfied: cachetools<5.0,>=2.0.0 in /opt/anaconda3/lib/python3.8/site-packages (from google-auth<2,>=1.6.3->tensorboard<3,>=2.3.0->tensorflow) (4.2.0)\n",
      "Requirement already satisfied: pyasn1-modules>=0.2.1 in /opt/anaconda3/lib/python3.8/site-packages (from google-auth<2,>=1.6.3->tensorboard<3,>=2.3.0->tensorflow) (0.2.8)\n",
      "Requirement already satisfied: rsa<5,>=3.1.4; python_version >= \"3.6\" in /opt/anaconda3/lib/python3.8/site-packages (from google-auth<2,>=1.6.3->tensorboard<3,>=2.3.0->tensorflow) (4.6)\n",
      "Requirement already satisfied: urllib3!=1.25.0,!=1.25.1,<1.26,>=1.21.1 in /opt/anaconda3/lib/python3.8/site-packages (from requests<3,>=2.21.0->tensorboard<3,>=2.3.0->tensorflow) (1.25.9)\n",
      "Requirement already satisfied: certifi>=2017.4.17 in /opt/anaconda3/lib/python3.8/site-packages (from requests<3,>=2.21.0->tensorboard<3,>=2.3.0->tensorflow) (2020.6.20)\n",
      "Requirement already satisfied: idna<3,>=2.5 in /opt/anaconda3/lib/python3.8/site-packages (from requests<3,>=2.21.0->tensorboard<3,>=2.3.0->tensorflow) (2.10)\n",
      "Requirement already satisfied: chardet<4,>=3.0.2 in /opt/anaconda3/lib/python3.8/site-packages (from requests<3,>=2.21.0->tensorboard<3,>=2.3.0->tensorflow) (3.0.4)\n",
      "Requirement already satisfied: requests-oauthlib>=0.7.0 in /opt/anaconda3/lib/python3.8/site-packages (from google-auth-oauthlib<0.5,>=0.4.1->tensorboard<3,>=2.3.0->tensorflow) (1.3.0)\n",
      "Requirement already satisfied: pyasn1<0.5.0,>=0.4.6 in /opt/anaconda3/lib/python3.8/site-packages (from pyasn1-modules>=0.2.1->google-auth<2,>=1.6.3->tensorboard<3,>=2.3.0->tensorflow) (0.4.8)\n",
      "Requirement already satisfied: oauthlib>=3.0.0 in /opt/anaconda3/lib/python3.8/site-packages (from requests-oauthlib>=0.7.0->google-auth-oauthlib<0.5,>=0.4.1->tensorboard<3,>=2.3.0->tensorflow) (3.1.0)\n"
     ]
    }
   ],
   "source": [
    "!pip install keras\n",
    "!pip install tensorflow"
   ]
  },
  {
   "cell_type": "code",
   "execution_count": 32,
   "metadata": {},
   "outputs": [
    {
     "data": {
      "text/html": [
       "<div>\n",
       "<style scoped>\n",
       "    .dataframe tbody tr th:only-of-type {\n",
       "        vertical-align: middle;\n",
       "    }\n",
       "\n",
       "    .dataframe tbody tr th {\n",
       "        vertical-align: top;\n",
       "    }\n",
       "\n",
       "    .dataframe thead th {\n",
       "        text-align: right;\n",
       "    }\n",
       "</style>\n",
       "<table border=\"1\" class=\"dataframe\">\n",
       "  <thead>\n",
       "    <tr style=\"text-align: right;\">\n",
       "      <th></th>\n",
       "      <th>Date</th>\n",
       "      <th>Open</th>\n",
       "      <th>High</th>\n",
       "      <th>Low</th>\n",
       "      <th>Close</th>\n",
       "      <th>Adj Close</th>\n",
       "      <th>Volume</th>\n",
       "      <th>SMA</th>\n",
       "      <th>5d_future_close</th>\n",
       "      <th>5d_close_future_pct</th>\n",
       "      <th>5d_close_pct</th>\n",
       "    </tr>\n",
       "  </thead>\n",
       "  <tbody>\n",
       "    <tr>\n",
       "      <th>0</th>\n",
       "      <td>2016-03-16</td>\n",
       "      <td>2014.239990</td>\n",
       "      <td>2032.020020</td>\n",
       "      <td>2010.040039</td>\n",
       "      <td>2027.219971</td>\n",
       "      <td>2027.219971</td>\n",
       "      <td>4057020000</td>\n",
       "      <td>1909.725838</td>\n",
       "      <td>2036.709961</td>\n",
       "      <td>0.004681</td>\n",
       "      <td>0.019082</td>\n",
       "    </tr>\n",
       "    <tr>\n",
       "      <th>1</th>\n",
       "      <td>2016-03-17</td>\n",
       "      <td>2026.900024</td>\n",
       "      <td>2046.239990</td>\n",
       "      <td>2022.160034</td>\n",
       "      <td>2040.589966</td>\n",
       "      <td>2040.589966</td>\n",
       "      <td>4530480000</td>\n",
       "      <td>1911.830318</td>\n",
       "      <td>2035.939941</td>\n",
       "      <td>-0.002279</td>\n",
       "      <td>0.025644</td>\n",
       "    </tr>\n",
       "    <tr>\n",
       "      <th>2</th>\n",
       "      <td>2016-03-18</td>\n",
       "      <td>2041.160034</td>\n",
       "      <td>2052.360107</td>\n",
       "      <td>2041.160034</td>\n",
       "      <td>2049.580078</td>\n",
       "      <td>2049.580078</td>\n",
       "      <td>6503140000</td>\n",
       "      <td>1914.523006</td>\n",
       "      <td>2037.050049</td>\n",
       "      <td>-0.006113</td>\n",
       "      <td>0.013545</td>\n",
       "    </tr>\n",
       "    <tr>\n",
       "      <th>3</th>\n",
       "      <td>2016-03-21</td>\n",
       "      <td>2047.880005</td>\n",
       "      <td>2053.909912</td>\n",
       "      <td>2043.140015</td>\n",
       "      <td>2051.600098</td>\n",
       "      <td>2051.600098</td>\n",
       "      <td>3376600000</td>\n",
       "      <td>1917.733142</td>\n",
       "      <td>2055.010010</td>\n",
       "      <td>0.001662</td>\n",
       "      <td>0.015825</td>\n",
       "    </tr>\n",
       "    <tr>\n",
       "      <th>4</th>\n",
       "      <td>2016-03-22</td>\n",
       "      <td>2048.639893</td>\n",
       "      <td>2056.600098</td>\n",
       "      <td>2040.569946</td>\n",
       "      <td>2049.800049</td>\n",
       "      <td>2049.800049</td>\n",
       "      <td>3418460000</td>\n",
       "      <td>1921.299918</td>\n",
       "      <td>2063.949951</td>\n",
       "      <td>0.006903</td>\n",
       "      <td>0.016801</td>\n",
       "    </tr>\n",
       "  </tbody>\n",
       "</table>\n",
       "</div>"
      ],
      "text/plain": [
       "        Date         Open         High          Low        Close    Adj Close  \\\n",
       "0 2016-03-16  2014.239990  2032.020020  2010.040039  2027.219971  2027.219971   \n",
       "1 2016-03-17  2026.900024  2046.239990  2022.160034  2040.589966  2040.589966   \n",
       "2 2016-03-18  2041.160034  2052.360107  2041.160034  2049.580078  2049.580078   \n",
       "3 2016-03-21  2047.880005  2053.909912  2043.140015  2051.600098  2051.600098   \n",
       "4 2016-03-22  2048.639893  2056.600098  2040.569946  2049.800049  2049.800049   \n",
       "\n",
       "       Volume          SMA  5d_future_close  5d_close_future_pct  5d_close_pct  \n",
       "0  4057020000  1909.725838      2036.709961             0.004681      0.019082  \n",
       "1  4530480000  1911.830318      2035.939941            -0.002279      0.025644  \n",
       "2  6503140000  1914.523006      2037.050049            -0.006113      0.013545  \n",
       "3  3376600000  1917.733142      2055.010010             0.001662      0.015825  \n",
       "4  3418460000  1921.299918      2063.949951             0.006903      0.016801  "
      ]
     },
     "execution_count": 32,
     "metadata": {},
     "output_type": "execute_result"
    }
   ],
   "source": [
    "clean_data.head()"
   ]
  },
  {
   "cell_type": "code",
   "execution_count": 33,
   "metadata": {},
   "outputs": [
    {
     "data": {
      "text/html": [
       "<div>\n",
       "<style scoped>\n",
       "    .dataframe tbody tr th:only-of-type {\n",
       "        vertical-align: middle;\n",
       "    }\n",
       "\n",
       "    .dataframe tbody tr th {\n",
       "        vertical-align: top;\n",
       "    }\n",
       "\n",
       "    .dataframe thead th {\n",
       "        text-align: right;\n",
       "    }\n",
       "</style>\n",
       "<table border=\"1\" class=\"dataframe\">\n",
       "  <thead>\n",
       "    <tr style=\"text-align: right;\">\n",
       "      <th></th>\n",
       "      <th>Date</th>\n",
       "      <th>Open</th>\n",
       "      <th>High</th>\n",
       "      <th>Low</th>\n",
       "      <th>Close</th>\n",
       "      <th>Adj Close</th>\n",
       "      <th>Volume</th>\n",
       "      <th>SMA</th>\n",
       "      <th>5d_future_close</th>\n",
       "      <th>5d_close_future_pct</th>\n",
       "      <th>5d_close_pct</th>\n",
       "    </tr>\n",
       "  </thead>\n",
       "  <tbody>\n",
       "    <tr>\n",
       "      <th>0</th>\n",
       "      <td>2016-03-16</td>\n",
       "      <td>2014.239990</td>\n",
       "      <td>2032.020020</td>\n",
       "      <td>2010.040039</td>\n",
       "      <td>2027.219971</td>\n",
       "      <td>2027.219971</td>\n",
       "      <td>4057020000</td>\n",
       "      <td>1909.725838</td>\n",
       "      <td>2036.709961</td>\n",
       "      <td>0.004681</td>\n",
       "      <td>0.019082</td>\n",
       "    </tr>\n",
       "    <tr>\n",
       "      <th>1</th>\n",
       "      <td>2016-03-17</td>\n",
       "      <td>2026.900024</td>\n",
       "      <td>2046.239990</td>\n",
       "      <td>2022.160034</td>\n",
       "      <td>2040.589966</td>\n",
       "      <td>2040.589966</td>\n",
       "      <td>4530480000</td>\n",
       "      <td>1911.830318</td>\n",
       "      <td>2035.939941</td>\n",
       "      <td>-0.002279</td>\n",
       "      <td>0.025644</td>\n",
       "    </tr>\n",
       "    <tr>\n",
       "      <th>2</th>\n",
       "      <td>2016-03-18</td>\n",
       "      <td>2041.160034</td>\n",
       "      <td>2052.360107</td>\n",
       "      <td>2041.160034</td>\n",
       "      <td>2049.580078</td>\n",
       "      <td>2049.580078</td>\n",
       "      <td>6503140000</td>\n",
       "      <td>1914.523006</td>\n",
       "      <td>2037.050049</td>\n",
       "      <td>-0.006113</td>\n",
       "      <td>0.013545</td>\n",
       "    </tr>\n",
       "    <tr>\n",
       "      <th>3</th>\n",
       "      <td>2016-03-21</td>\n",
       "      <td>2047.880005</td>\n",
       "      <td>2053.909912</td>\n",
       "      <td>2043.140015</td>\n",
       "      <td>2051.600098</td>\n",
       "      <td>2051.600098</td>\n",
       "      <td>3376600000</td>\n",
       "      <td>1917.733142</td>\n",
       "      <td>2055.010010</td>\n",
       "      <td>0.001662</td>\n",
       "      <td>0.015825</td>\n",
       "    </tr>\n",
       "    <tr>\n",
       "      <th>4</th>\n",
       "      <td>2016-03-22</td>\n",
       "      <td>2048.639893</td>\n",
       "      <td>2056.600098</td>\n",
       "      <td>2040.569946</td>\n",
       "      <td>2049.800049</td>\n",
       "      <td>2049.800049</td>\n",
       "      <td>3418460000</td>\n",
       "      <td>1921.299918</td>\n",
       "      <td>2063.949951</td>\n",
       "      <td>0.006903</td>\n",
       "      <td>0.016801</td>\n",
       "    </tr>\n",
       "  </tbody>\n",
       "</table>\n",
       "</div>"
      ],
      "text/plain": [
       "        Date         Open         High          Low        Close    Adj Close  \\\n",
       "0 2016-03-16  2014.239990  2032.020020  2010.040039  2027.219971  2027.219971   \n",
       "1 2016-03-17  2026.900024  2046.239990  2022.160034  2040.589966  2040.589966   \n",
       "2 2016-03-18  2041.160034  2052.360107  2041.160034  2049.580078  2049.580078   \n",
       "3 2016-03-21  2047.880005  2053.909912  2043.140015  2051.600098  2051.600098   \n",
       "4 2016-03-22  2048.639893  2056.600098  2040.569946  2049.800049  2049.800049   \n",
       "\n",
       "       Volume          SMA  5d_future_close  5d_close_future_pct  5d_close_pct  \n",
       "0  4057020000  1909.725838      2036.709961             0.004681      0.019082  \n",
       "1  4530480000  1911.830318      2035.939941            -0.002279      0.025644  \n",
       "2  6503140000  1914.523006      2037.050049            -0.006113      0.013545  \n",
       "3  3376600000  1917.733142      2055.010010             0.001662      0.015825  \n",
       "4  3418460000  1921.299918      2063.949951             0.006903      0.016801  "
      ]
     },
     "execution_count": 33,
     "metadata": {},
     "output_type": "execute_result"
    }
   ],
   "source": [
    "dataLSTM = clean_data.sort_index(ascending=True, axis=0)\n",
    "dataLSTM.head()"
   ]
  },
  {
   "cell_type": "code",
   "execution_count": 34,
   "metadata": {},
   "outputs": [],
   "source": [
    "new_data = pd.DataFrame(index=range(0,len(clean_data)),columns=['Date', 'Close'])"
   ]
  },
  {
   "cell_type": "code",
   "execution_count": 35,
   "metadata": {},
   "outputs": [
    {
     "data": {
      "text/plain": [
       "0       NaN\n",
       "1       NaN\n",
       "2       NaN\n",
       "3       NaN\n",
       "4       NaN\n",
       "       ... \n",
       "1172    NaN\n",
       "1173    NaN\n",
       "1174    NaN\n",
       "1175    NaN\n",
       "1176    NaN\n",
       "Name: Date, Length: 1177, dtype: object"
      ]
     },
     "execution_count": 35,
     "metadata": {},
     "output_type": "execute_result"
    }
   ],
   "source": [
    "new_data['Date']"
   ]
  },
  {
   "cell_type": "code",
   "execution_count": 36,
   "metadata": {},
   "outputs": [
    {
     "data": {
      "text/plain": [
       "1177"
      ]
     },
     "execution_count": 36,
     "metadata": {},
     "output_type": "execute_result"
    }
   ],
   "source": [
    "len(dataLSTM)"
   ]
  },
  {
   "cell_type": "code",
   "execution_count": 37,
   "metadata": {},
   "outputs": [],
   "source": [
    "for i in range(0,len(dataLSTM)):\n",
    "    new_data['Date'][i] = dataLSTM['Date'][i]\n",
    "    new_data['Close'][i] = dataLSTM['Close'][i]"
   ]
  },
  {
   "cell_type": "code",
   "execution_count": 38,
   "metadata": {},
   "outputs": [],
   "source": [
    "#setting index\n",
    "new_data.index = new_data.Date\n",
    "new_data.drop('Date', axis=1, inplace=True)"
   ]
  },
  {
   "cell_type": "code",
   "execution_count": 39,
   "metadata": {},
   "outputs": [
    {
     "data": {
      "text/html": [
       "<div>\n",
       "<style scoped>\n",
       "    .dataframe tbody tr th:only-of-type {\n",
       "        vertical-align: middle;\n",
       "    }\n",
       "\n",
       "    .dataframe tbody tr th {\n",
       "        vertical-align: top;\n",
       "    }\n",
       "\n",
       "    .dataframe thead th {\n",
       "        text-align: right;\n",
       "    }\n",
       "</style>\n",
       "<table border=\"1\" class=\"dataframe\">\n",
       "  <thead>\n",
       "    <tr style=\"text-align: right;\">\n",
       "      <th></th>\n",
       "      <th>Close</th>\n",
       "    </tr>\n",
       "    <tr>\n",
       "      <th>Date</th>\n",
       "      <th></th>\n",
       "    </tr>\n",
       "  </thead>\n",
       "  <tbody>\n",
       "    <tr>\n",
       "      <th>2016-03-16</th>\n",
       "      <td>2027.22</td>\n",
       "    </tr>\n",
       "    <tr>\n",
       "      <th>2016-03-17</th>\n",
       "      <td>2040.59</td>\n",
       "    </tr>\n",
       "    <tr>\n",
       "      <th>2016-03-18</th>\n",
       "      <td>2049.58</td>\n",
       "    </tr>\n",
       "    <tr>\n",
       "      <th>2016-03-21</th>\n",
       "      <td>2051.6</td>\n",
       "    </tr>\n",
       "    <tr>\n",
       "      <th>2016-03-22</th>\n",
       "      <td>2049.8</td>\n",
       "    </tr>\n",
       "  </tbody>\n",
       "</table>\n",
       "</div>"
      ],
      "text/plain": [
       "              Close\n",
       "Date               \n",
       "2016-03-16  2027.22\n",
       "2016-03-17  2040.59\n",
       "2016-03-18  2049.58\n",
       "2016-03-21   2051.6\n",
       "2016-03-22   2049.8"
      ]
     },
     "execution_count": 39,
     "metadata": {},
     "output_type": "execute_result"
    }
   ],
   "source": [
    "new_data.head()"
   ]
  },
  {
   "cell_type": "markdown",
   "metadata": {},
   "source": [
    "Once data is processed for LSTM to start importing and processing"
   ]
  },
  {
   "cell_type": "code",
   "execution_count": 40,
   "metadata": {},
   "outputs": [],
   "source": [
    "#importing required libraries\n",
    "from sklearn.preprocessing import MinMaxScaler\n",
    "from keras.models import Sequential\n",
    "from keras.layers import Dense, Dropout, LSTM"
   ]
  },
  {
   "cell_type": "code",
   "execution_count": 41,
   "metadata": {},
   "outputs": [],
   "source": [
    "#creating train and test sets\n",
    "dataset = new_data.values\n",
    "\n",
    "train = dataset[0:950,:]\n",
    "test = dataset[950:,:]"
   ]
  },
  {
   "cell_type": "code",
   "execution_count": 42,
   "metadata": {},
   "outputs": [],
   "source": [
    "#converting dataset into x_train and y_train\n",
    "scaler = MinMaxScaler(feature_range=(0, 1))\n",
    "scaled_data = scaler.fit_transform(dataset)\n",
    "\n",
    "x_train, y_train = [], []\n",
    "for i in range(60,len(train)):\n",
    "    x_train.append(scaled_data[i-60:i,0])\n",
    "    y_train.append(scaled_data[i,0])\n",
    "x_train, y_train = np.array(x_train), np.array(y_train)\n",
    "\n",
    "x_train = np.reshape(x_train, (x_train.shape[0],x_train.shape[1],1))"
   ]
  },
  {
   "cell_type": "code",
   "execution_count": 43,
   "metadata": {},
   "outputs": [],
   "source": [
    "# create and fit the LSTM network\n",
    "model = Sequential()\n",
    "model.add(LSTM(units=50, return_sequences=True, input_shape=(x_train.shape[1],1)))\n",
    "model.add(LSTM(units=50))\n",
    "model.add(Dense(1))"
   ]
  },
  {
   "cell_type": "code",
   "execution_count": 44,
   "metadata": {},
   "outputs": [
    {
     "name": "stdout",
     "output_type": "stream",
     "text": [
      "890/890 - 18s - loss: 0.0022\n"
     ]
    }
   ],
   "source": [
    "model.compile(loss='mean_squared_error', optimizer='adam')\n",
    "model.fit(x_train, y_train, epochs=1, batch_size=1, verbose=2)\n",
    "\n",
    "#predicting 246 values, using past 60 from the train data\n",
    "inputs = new_data[len(new_data) - len(test) - 60:].values\n",
    "inputs = inputs.reshape(-1,1)\n",
    "inputs  = scaler.transform(inputs)\n",
    "\n",
    "X_test = []\n",
    "for i in range(60,inputs.shape[0]):\n",
    "    X_test.append(inputs[i-60:i,0])\n",
    "X_test = np.array(X_test)\n",
    "\n",
    "X_test = np.reshape(X_test, (X_test.shape[0],X_test.shape[1],1))\n",
    "closing_price = model.predict(X_test)\n",
    "closing_price = scaler.inverse_transform(closing_price)"
   ]
  },
  {
   "cell_type": "code",
   "execution_count": 45,
   "metadata": {},
   "outputs": [
    {
     "data": {
      "text/plain": [
       "125.83266263284517"
      ]
     },
     "execution_count": 45,
     "metadata": {},
     "output_type": "execute_result"
    }
   ],
   "source": [
    "rms=np.sqrt(np.mean(np.power((test-closing_price),2)))\n",
    "rms"
   ]
  },
  {
   "cell_type": "code",
   "execution_count": 46,
   "metadata": {},
   "outputs": [
    {
     "name": "stderr",
     "output_type": "stream",
     "text": [
      "<ipython-input-46-3063154666b1>:4: SettingWithCopyWarning: \n",
      "A value is trying to be set on a copy of a slice from a DataFrame.\n",
      "Try using .loc[row_indexer,col_indexer] = value instead\n",
      "\n",
      "See the caveats in the documentation: https://pandas.pydata.org/pandas-docs/stable/user_guide/indexing.html#returning-a-view-versus-a-copy\n",
      "  test['Predictions'] = closing_price\n"
     ]
    },
    {
     "data": {
      "text/plain": [
       "[<matplotlib.lines.Line2D at 0x148bae0d0>,\n",
       " <matplotlib.lines.Line2D at 0x148bae1f0>]"
      ]
     },
     "execution_count": 46,
     "metadata": {},
     "output_type": "execute_result"
    },
    {
     "data": {
      "image/png": "[encoded data removed]",
      "text/plain": [
       "<Figure size 432x288 with 1 Axes>"
      ]
     },
     "metadata": {
      "needs_background": "light"
     },
     "output_type": "display_data"
    }
   ],
   "source": [
    "#for plotting\n",
    "train = new_data[:950]\n",
    "test = new_data[950:]\n",
    "test['Predictions'] = closing_price\n",
    "plt.plot(train['Close'])\n",
    "plt.plot(test[['Close','Predictions']])"
   ]
  }
 ],
 "metadata": {
  "kernelspec": {
   "display_name": "Python 3",
   "language": "python",
   "name": "python3"
  },
  "language_info": {
   "codemirror_mode": {
    "name": "ipython",
    "version": 3
   },
   "file_extension": ".py",
   "mimetype": "text/x-python",
   "name": "python",
   "nbconvert_exporter": "python",
   "pygments_lexer": "ipython3",
   "version": "3.8.3"
  }
 },
 "nbformat": 4,
 "nbformat_minor": 4
}
